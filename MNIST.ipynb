{
  "nbformat": 4,
  "nbformat_minor": 0,
  "metadata": {
    "colab": {
      "name": "MNIST.ipynb",
      "provenance": [],
      "collapsed_sections": [],
      "authorship_tag": "ABX9TyNuisBeT+HyVUyZt2fsa6Kh",
      "include_colab_link": true
    },
    "kernelspec": {
      "name": "python3",
      "display_name": "Python 3"
    },
    "widgets": {
      "application/vnd.jupyter.widget-state+json": {
        "e1827902b317433f814ca3e563650dd2": {
          "model_module": "@jupyter-widgets/controls",
          "model_name": "HBoxModel",
          "state": {
            "_view_name": "HBoxView",
            "_dom_classes": [],
            "_model_name": "HBoxModel",
            "_view_module": "@jupyter-widgets/controls",
            "_model_module_version": "1.5.0",
            "_view_count": null,
            "_view_module_version": "1.5.0",
            "box_style": "",
            "layout": "IPY_MODEL_8813295e920d424f9f02c1c87b5bcc2f",
            "_model_module": "@jupyter-widgets/controls",
            "children": [
              "IPY_MODEL_39cb65be6c344f619589907184eea9e6",
              "IPY_MODEL_a6a1aab3826f465aac48c3dc6e8b5a91"
            ]
          }
        },
        "8813295e920d424f9f02c1c87b5bcc2f": {
          "model_module": "@jupyter-widgets/base",
          "model_name": "LayoutModel",
          "state": {
            "_view_name": "LayoutView",
            "grid_template_rows": null,
            "right": null,
            "justify_content": null,
            "_view_module": "@jupyter-widgets/base",
            "overflow": null,
            "_model_module_version": "1.2.0",
            "_view_count": null,
            "flex_flow": null,
            "width": null,
            "min_width": null,
            "border": null,
            "align_items": null,
            "bottom": null,
            "_model_module": "@jupyter-widgets/base",
            "top": null,
            "grid_column": null,
            "overflow_y": null,
            "overflow_x": null,
            "grid_auto_flow": null,
            "grid_area": null,
            "grid_template_columns": null,
            "flex": null,
            "_model_name": "LayoutModel",
            "justify_items": null,
            "grid_row": null,
            "max_height": null,
            "align_content": null,
            "visibility": null,
            "align_self": null,
            "height": null,
            "min_height": null,
            "padding": null,
            "grid_auto_rows": null,
            "grid_gap": null,
            "max_width": null,
            "order": null,
            "_view_module_version": "1.2.0",
            "grid_template_areas": null,
            "object_position": null,
            "object_fit": null,
            "grid_auto_columns": null,
            "margin": null,
            "display": null,
            "left": null
          }
        },
        "39cb65be6c344f619589907184eea9e6": {
          "model_module": "@jupyter-widgets/controls",
          "model_name": "FloatProgressModel",
          "state": {
            "_view_name": "ProgressView",
            "style": "IPY_MODEL_0e9f4d7c4b914753864d7b7dd7ae0736",
            "_dom_classes": [],
            "description": "",
            "_model_name": "FloatProgressModel",
            "bar_style": "info",
            "max": 1,
            "_view_module": "@jupyter-widgets/controls",
            "_model_module_version": "1.5.0",
            "value": 1,
            "_view_count": null,
            "_view_module_version": "1.5.0",
            "orientation": "horizontal",
            "min": 0,
            "description_tooltip": null,
            "_model_module": "@jupyter-widgets/controls",
            "layout": "IPY_MODEL_c67e122a2c57470a82b6e2aeeeff4841"
          }
        },
        "a6a1aab3826f465aac48c3dc6e8b5a91": {
          "model_module": "@jupyter-widgets/controls",
          "model_name": "HTMLModel",
          "state": {
            "_view_name": "HTMLView",
            "style": "IPY_MODEL_a3657e196a0d4959b46b6293a49b002f",
            "_dom_classes": [],
            "description": "",
            "_model_name": "HTMLModel",
            "placeholder": "​",
            "_view_module": "@jupyter-widgets/controls",
            "_model_module_version": "1.5.0",
            "value": " 9920512/? [00:20&lt;00:00, 1329795.92it/s]",
            "_view_count": null,
            "_view_module_version": "1.5.0",
            "description_tooltip": null,
            "_model_module": "@jupyter-widgets/controls",
            "layout": "IPY_MODEL_1147510ab9eb4baa8e900b3a771867d9"
          }
        },
        "0e9f4d7c4b914753864d7b7dd7ae0736": {
          "model_module": "@jupyter-widgets/controls",
          "model_name": "ProgressStyleModel",
          "state": {
            "_view_name": "StyleView",
            "_model_name": "ProgressStyleModel",
            "description_width": "initial",
            "_view_module": "@jupyter-widgets/base",
            "_model_module_version": "1.5.0",
            "_view_count": null,
            "_view_module_version": "1.2.0",
            "bar_color": null,
            "_model_module": "@jupyter-widgets/controls"
          }
        },
        "c67e122a2c57470a82b6e2aeeeff4841": {
          "model_module": "@jupyter-widgets/base",
          "model_name": "LayoutModel",
          "state": {
            "_view_name": "LayoutView",
            "grid_template_rows": null,
            "right": null,
            "justify_content": null,
            "_view_module": "@jupyter-widgets/base",
            "overflow": null,
            "_model_module_version": "1.2.0",
            "_view_count": null,
            "flex_flow": null,
            "width": null,
            "min_width": null,
            "border": null,
            "align_items": null,
            "bottom": null,
            "_model_module": "@jupyter-widgets/base",
            "top": null,
            "grid_column": null,
            "overflow_y": null,
            "overflow_x": null,
            "grid_auto_flow": null,
            "grid_area": null,
            "grid_template_columns": null,
            "flex": null,
            "_model_name": "LayoutModel",
            "justify_items": null,
            "grid_row": null,
            "max_height": null,
            "align_content": null,
            "visibility": null,
            "align_self": null,
            "height": null,
            "min_height": null,
            "padding": null,
            "grid_auto_rows": null,
            "grid_gap": null,
            "max_width": null,
            "order": null,
            "_view_module_version": "1.2.0",
            "grid_template_areas": null,
            "object_position": null,
            "object_fit": null,
            "grid_auto_columns": null,
            "margin": null,
            "display": null,
            "left": null
          }
        },
        "a3657e196a0d4959b46b6293a49b002f": {
          "model_module": "@jupyter-widgets/controls",
          "model_name": "DescriptionStyleModel",
          "state": {
            "_view_name": "StyleView",
            "_model_name": "DescriptionStyleModel",
            "description_width": "",
            "_view_module": "@jupyter-widgets/base",
            "_model_module_version": "1.5.0",
            "_view_count": null,
            "_view_module_version": "1.2.0",
            "_model_module": "@jupyter-widgets/controls"
          }
        },
        "1147510ab9eb4baa8e900b3a771867d9": {
          "model_module": "@jupyter-widgets/base",
          "model_name": "LayoutModel",
          "state": {
            "_view_name": "LayoutView",
            "grid_template_rows": null,
            "right": null,
            "justify_content": null,
            "_view_module": "@jupyter-widgets/base",
            "overflow": null,
            "_model_module_version": "1.2.0",
            "_view_count": null,
            "flex_flow": null,
            "width": null,
            "min_width": null,
            "border": null,
            "align_items": null,
            "bottom": null,
            "_model_module": "@jupyter-widgets/base",
            "top": null,
            "grid_column": null,
            "overflow_y": null,
            "overflow_x": null,
            "grid_auto_flow": null,
            "grid_area": null,
            "grid_template_columns": null,
            "flex": null,
            "_model_name": "LayoutModel",
            "justify_items": null,
            "grid_row": null,
            "max_height": null,
            "align_content": null,
            "visibility": null,
            "align_self": null,
            "height": null,
            "min_height": null,
            "padding": null,
            "grid_auto_rows": null,
            "grid_gap": null,
            "max_width": null,
            "order": null,
            "_view_module_version": "1.2.0",
            "grid_template_areas": null,
            "object_position": null,
            "object_fit": null,
            "grid_auto_columns": null,
            "margin": null,
            "display": null,
            "left": null
          }
        },
        "d250d6211ba54820befbe0903428a0ab": {
          "model_module": "@jupyter-widgets/controls",
          "model_name": "HBoxModel",
          "state": {
            "_view_name": "HBoxView",
            "_dom_classes": [],
            "_model_name": "HBoxModel",
            "_view_module": "@jupyter-widgets/controls",
            "_model_module_version": "1.5.0",
            "_view_count": null,
            "_view_module_version": "1.5.0",
            "box_style": "",
            "layout": "IPY_MODEL_5b6f5631d18b413f8877d050e8593f6f",
            "_model_module": "@jupyter-widgets/controls",
            "children": [
              "IPY_MODEL_96a1e9ddaaa24f6a9bcf83f6b849d9f4",
              "IPY_MODEL_7558709e8687451cb1e63f952e8d55c0"
            ]
          }
        },
        "5b6f5631d18b413f8877d050e8593f6f": {
          "model_module": "@jupyter-widgets/base",
          "model_name": "LayoutModel",
          "state": {
            "_view_name": "LayoutView",
            "grid_template_rows": null,
            "right": null,
            "justify_content": null,
            "_view_module": "@jupyter-widgets/base",
            "overflow": null,
            "_model_module_version": "1.2.0",
            "_view_count": null,
            "flex_flow": null,
            "width": null,
            "min_width": null,
            "border": null,
            "align_items": null,
            "bottom": null,
            "_model_module": "@jupyter-widgets/base",
            "top": null,
            "grid_column": null,
            "overflow_y": null,
            "overflow_x": null,
            "grid_auto_flow": null,
            "grid_area": null,
            "grid_template_columns": null,
            "flex": null,
            "_model_name": "LayoutModel",
            "justify_items": null,
            "grid_row": null,
            "max_height": null,
            "align_content": null,
            "visibility": null,
            "align_self": null,
            "height": null,
            "min_height": null,
            "padding": null,
            "grid_auto_rows": null,
            "grid_gap": null,
            "max_width": null,
            "order": null,
            "_view_module_version": "1.2.0",
            "grid_template_areas": null,
            "object_position": null,
            "object_fit": null,
            "grid_auto_columns": null,
            "margin": null,
            "display": null,
            "left": null
          }
        },
        "96a1e9ddaaa24f6a9bcf83f6b849d9f4": {
          "model_module": "@jupyter-widgets/controls",
          "model_name": "FloatProgressModel",
          "state": {
            "_view_name": "ProgressView",
            "style": "IPY_MODEL_7d00e1527bd84d0fa31000d64333f5ac",
            "_dom_classes": [],
            "description": "  0%",
            "_model_name": "FloatProgressModel",
            "bar_style": "info",
            "max": 1,
            "_view_module": "@jupyter-widgets/controls",
            "_model_module_version": "1.5.0",
            "value": 0,
            "_view_count": null,
            "_view_module_version": "1.5.0",
            "orientation": "horizontal",
            "min": 0,
            "description_tooltip": null,
            "_model_module": "@jupyter-widgets/controls",
            "layout": "IPY_MODEL_ecb015675c0646b88808529120ea2279"
          }
        },
        "7558709e8687451cb1e63f952e8d55c0": {
          "model_module": "@jupyter-widgets/controls",
          "model_name": "HTMLModel",
          "state": {
            "_view_name": "HTMLView",
            "style": "IPY_MODEL_3ec0c8c1dfea417ca20881d047d51534",
            "_dom_classes": [],
            "description": "",
            "_model_name": "HTMLModel",
            "placeholder": "​",
            "_view_module": "@jupyter-widgets/controls",
            "_model_module_version": "1.5.0",
            "value": " 0/28881 [00:00&lt;?, ?it/s]",
            "_view_count": null,
            "_view_module_version": "1.5.0",
            "description_tooltip": null,
            "_model_module": "@jupyter-widgets/controls",
            "layout": "IPY_MODEL_6e1d167077f546db9244d58321258fae"
          }
        },
        "7d00e1527bd84d0fa31000d64333f5ac": {
          "model_module": "@jupyter-widgets/controls",
          "model_name": "ProgressStyleModel",
          "state": {
            "_view_name": "StyleView",
            "_model_name": "ProgressStyleModel",
            "description_width": "initial",
            "_view_module": "@jupyter-widgets/base",
            "_model_module_version": "1.5.0",
            "_view_count": null,
            "_view_module_version": "1.2.0",
            "bar_color": null,
            "_model_module": "@jupyter-widgets/controls"
          }
        },
        "ecb015675c0646b88808529120ea2279": {
          "model_module": "@jupyter-widgets/base",
          "model_name": "LayoutModel",
          "state": {
            "_view_name": "LayoutView",
            "grid_template_rows": null,
            "right": null,
            "justify_content": null,
            "_view_module": "@jupyter-widgets/base",
            "overflow": null,
            "_model_module_version": "1.2.0",
            "_view_count": null,
            "flex_flow": null,
            "width": null,
            "min_width": null,
            "border": null,
            "align_items": null,
            "bottom": null,
            "_model_module": "@jupyter-widgets/base",
            "top": null,
            "grid_column": null,
            "overflow_y": null,
            "overflow_x": null,
            "grid_auto_flow": null,
            "grid_area": null,
            "grid_template_columns": null,
            "flex": null,
            "_model_name": "LayoutModel",
            "justify_items": null,
            "grid_row": null,
            "max_height": null,
            "align_content": null,
            "visibility": null,
            "align_self": null,
            "height": null,
            "min_height": null,
            "padding": null,
            "grid_auto_rows": null,
            "grid_gap": null,
            "max_width": null,
            "order": null,
            "_view_module_version": "1.2.0",
            "grid_template_areas": null,
            "object_position": null,
            "object_fit": null,
            "grid_auto_columns": null,
            "margin": null,
            "display": null,
            "left": null
          }
        },
        "3ec0c8c1dfea417ca20881d047d51534": {
          "model_module": "@jupyter-widgets/controls",
          "model_name": "DescriptionStyleModel",
          "state": {
            "_view_name": "StyleView",
            "_model_name": "DescriptionStyleModel",
            "description_width": "",
            "_view_module": "@jupyter-widgets/base",
            "_model_module_version": "1.5.0",
            "_view_count": null,
            "_view_module_version": "1.2.0",
            "_model_module": "@jupyter-widgets/controls"
          }
        },
        "6e1d167077f546db9244d58321258fae": {
          "model_module": "@jupyter-widgets/base",
          "model_name": "LayoutModel",
          "state": {
            "_view_name": "LayoutView",
            "grid_template_rows": null,
            "right": null,
            "justify_content": null,
            "_view_module": "@jupyter-widgets/base",
            "overflow": null,
            "_model_module_version": "1.2.0",
            "_view_count": null,
            "flex_flow": null,
            "width": null,
            "min_width": null,
            "border": null,
            "align_items": null,
            "bottom": null,
            "_model_module": "@jupyter-widgets/base",
            "top": null,
            "grid_column": null,
            "overflow_y": null,
            "overflow_x": null,
            "grid_auto_flow": null,
            "grid_area": null,
            "grid_template_columns": null,
            "flex": null,
            "_model_name": "LayoutModel",
            "justify_items": null,
            "grid_row": null,
            "max_height": null,
            "align_content": null,
            "visibility": null,
            "align_self": null,
            "height": null,
            "min_height": null,
            "padding": null,
            "grid_auto_rows": null,
            "grid_gap": null,
            "max_width": null,
            "order": null,
            "_view_module_version": "1.2.0",
            "grid_template_areas": null,
            "object_position": null,
            "object_fit": null,
            "grid_auto_columns": null,
            "margin": null,
            "display": null,
            "left": null
          }
        },
        "af12e0249bf940d78f08dd9a8dadc547": {
          "model_module": "@jupyter-widgets/controls",
          "model_name": "HBoxModel",
          "state": {
            "_view_name": "HBoxView",
            "_dom_classes": [],
            "_model_name": "HBoxModel",
            "_view_module": "@jupyter-widgets/controls",
            "_model_module_version": "1.5.0",
            "_view_count": null,
            "_view_module_version": "1.5.0",
            "box_style": "",
            "layout": "IPY_MODEL_acc64c9a190a4cfd9907ab686084454e",
            "_model_module": "@jupyter-widgets/controls",
            "children": [
              "IPY_MODEL_14e0d0a2e83e4a2cb8292a7518d31952",
              "IPY_MODEL_fdd8f725840a4d3b88b0353478582c18"
            ]
          }
        },
        "acc64c9a190a4cfd9907ab686084454e": {
          "model_module": "@jupyter-widgets/base",
          "model_name": "LayoutModel",
          "state": {
            "_view_name": "LayoutView",
            "grid_template_rows": null,
            "right": null,
            "justify_content": null,
            "_view_module": "@jupyter-widgets/base",
            "overflow": null,
            "_model_module_version": "1.2.0",
            "_view_count": null,
            "flex_flow": null,
            "width": null,
            "min_width": null,
            "border": null,
            "align_items": null,
            "bottom": null,
            "_model_module": "@jupyter-widgets/base",
            "top": null,
            "grid_column": null,
            "overflow_y": null,
            "overflow_x": null,
            "grid_auto_flow": null,
            "grid_area": null,
            "grid_template_columns": null,
            "flex": null,
            "_model_name": "LayoutModel",
            "justify_items": null,
            "grid_row": null,
            "max_height": null,
            "align_content": null,
            "visibility": null,
            "align_self": null,
            "height": null,
            "min_height": null,
            "padding": null,
            "grid_auto_rows": null,
            "grid_gap": null,
            "max_width": null,
            "order": null,
            "_view_module_version": "1.2.0",
            "grid_template_areas": null,
            "object_position": null,
            "object_fit": null,
            "grid_auto_columns": null,
            "margin": null,
            "display": null,
            "left": null
          }
        },
        "14e0d0a2e83e4a2cb8292a7518d31952": {
          "model_module": "@jupyter-widgets/controls",
          "model_name": "FloatProgressModel",
          "state": {
            "_view_name": "ProgressView",
            "style": "IPY_MODEL_e344c85909554e78ac7a6f26f508466b",
            "_dom_classes": [],
            "description": "",
            "_model_name": "FloatProgressModel",
            "bar_style": "info",
            "max": 1,
            "_view_module": "@jupyter-widgets/controls",
            "_model_module_version": "1.5.0",
            "value": 1,
            "_view_count": null,
            "_view_module_version": "1.5.0",
            "orientation": "horizontal",
            "min": 0,
            "description_tooltip": null,
            "_model_module": "@jupyter-widgets/controls",
            "layout": "IPY_MODEL_9a2304f1871b4e9ca2852ecc92037298"
          }
        },
        "fdd8f725840a4d3b88b0353478582c18": {
          "model_module": "@jupyter-widgets/controls",
          "model_name": "HTMLModel",
          "state": {
            "_view_name": "HTMLView",
            "style": "IPY_MODEL_c623fcb0f1294f98a3d777e818b52291",
            "_dom_classes": [],
            "description": "",
            "_model_name": "HTMLModel",
            "placeholder": "​",
            "_view_module": "@jupyter-widgets/controls",
            "_model_module_version": "1.5.0",
            "value": " 1654784/? [00:16&lt;00:00, 256685.16it/s]",
            "_view_count": null,
            "_view_module_version": "1.5.0",
            "description_tooltip": null,
            "_model_module": "@jupyter-widgets/controls",
            "layout": "IPY_MODEL_10c570fa82314f55bd278c545b04a696"
          }
        },
        "e344c85909554e78ac7a6f26f508466b": {
          "model_module": "@jupyter-widgets/controls",
          "model_name": "ProgressStyleModel",
          "state": {
            "_view_name": "StyleView",
            "_model_name": "ProgressStyleModel",
            "description_width": "initial",
            "_view_module": "@jupyter-widgets/base",
            "_model_module_version": "1.5.0",
            "_view_count": null,
            "_view_module_version": "1.2.0",
            "bar_color": null,
            "_model_module": "@jupyter-widgets/controls"
          }
        },
        "9a2304f1871b4e9ca2852ecc92037298": {
          "model_module": "@jupyter-widgets/base",
          "model_name": "LayoutModel",
          "state": {
            "_view_name": "LayoutView",
            "grid_template_rows": null,
            "right": null,
            "justify_content": null,
            "_view_module": "@jupyter-widgets/base",
            "overflow": null,
            "_model_module_version": "1.2.0",
            "_view_count": null,
            "flex_flow": null,
            "width": null,
            "min_width": null,
            "border": null,
            "align_items": null,
            "bottom": null,
            "_model_module": "@jupyter-widgets/base",
            "top": null,
            "grid_column": null,
            "overflow_y": null,
            "overflow_x": null,
            "grid_auto_flow": null,
            "grid_area": null,
            "grid_template_columns": null,
            "flex": null,
            "_model_name": "LayoutModel",
            "justify_items": null,
            "grid_row": null,
            "max_height": null,
            "align_content": null,
            "visibility": null,
            "align_self": null,
            "height": null,
            "min_height": null,
            "padding": null,
            "grid_auto_rows": null,
            "grid_gap": null,
            "max_width": null,
            "order": null,
            "_view_module_version": "1.2.0",
            "grid_template_areas": null,
            "object_position": null,
            "object_fit": null,
            "grid_auto_columns": null,
            "margin": null,
            "display": null,
            "left": null
          }
        },
        "c623fcb0f1294f98a3d777e818b52291": {
          "model_module": "@jupyter-widgets/controls",
          "model_name": "DescriptionStyleModel",
          "state": {
            "_view_name": "StyleView",
            "_model_name": "DescriptionStyleModel",
            "description_width": "",
            "_view_module": "@jupyter-widgets/base",
            "_model_module_version": "1.5.0",
            "_view_count": null,
            "_view_module_version": "1.2.0",
            "_model_module": "@jupyter-widgets/controls"
          }
        },
        "10c570fa82314f55bd278c545b04a696": {
          "model_module": "@jupyter-widgets/base",
          "model_name": "LayoutModel",
          "state": {
            "_view_name": "LayoutView",
            "grid_template_rows": null,
            "right": null,
            "justify_content": null,
            "_view_module": "@jupyter-widgets/base",
            "overflow": null,
            "_model_module_version": "1.2.0",
            "_view_count": null,
            "flex_flow": null,
            "width": null,
            "min_width": null,
            "border": null,
            "align_items": null,
            "bottom": null,
            "_model_module": "@jupyter-widgets/base",
            "top": null,
            "grid_column": null,
            "overflow_y": null,
            "overflow_x": null,
            "grid_auto_flow": null,
            "grid_area": null,
            "grid_template_columns": null,
            "flex": null,
            "_model_name": "LayoutModel",
            "justify_items": null,
            "grid_row": null,
            "max_height": null,
            "align_content": null,
            "visibility": null,
            "align_self": null,
            "height": null,
            "min_height": null,
            "padding": null,
            "grid_auto_rows": null,
            "grid_gap": null,
            "max_width": null,
            "order": null,
            "_view_module_version": "1.2.0",
            "grid_template_areas": null,
            "object_position": null,
            "object_fit": null,
            "grid_auto_columns": null,
            "margin": null,
            "display": null,
            "left": null
          }
        },
        "050b16f8a9dc4949b80ca92fb44531d0": {
          "model_module": "@jupyter-widgets/controls",
          "model_name": "HBoxModel",
          "state": {
            "_view_name": "HBoxView",
            "_dom_classes": [],
            "_model_name": "HBoxModel",
            "_view_module": "@jupyter-widgets/controls",
            "_model_module_version": "1.5.0",
            "_view_count": null,
            "_view_module_version": "1.5.0",
            "box_style": "",
            "layout": "IPY_MODEL_a9c1d778c7ae4893a8fdebf05b7554ee",
            "_model_module": "@jupyter-widgets/controls",
            "children": [
              "IPY_MODEL_8f4299beab3248ba8f6707c59e9cfb5f",
              "IPY_MODEL_1628d55a597b4cf5a60553dc85d54741"
            ]
          }
        },
        "a9c1d778c7ae4893a8fdebf05b7554ee": {
          "model_module": "@jupyter-widgets/base",
          "model_name": "LayoutModel",
          "state": {
            "_view_name": "LayoutView",
            "grid_template_rows": null,
            "right": null,
            "justify_content": null,
            "_view_module": "@jupyter-widgets/base",
            "overflow": null,
            "_model_module_version": "1.2.0",
            "_view_count": null,
            "flex_flow": null,
            "width": null,
            "min_width": null,
            "border": null,
            "align_items": null,
            "bottom": null,
            "_model_module": "@jupyter-widgets/base",
            "top": null,
            "grid_column": null,
            "overflow_y": null,
            "overflow_x": null,
            "grid_auto_flow": null,
            "grid_area": null,
            "grid_template_columns": null,
            "flex": null,
            "_model_name": "LayoutModel",
            "justify_items": null,
            "grid_row": null,
            "max_height": null,
            "align_content": null,
            "visibility": null,
            "align_self": null,
            "height": null,
            "min_height": null,
            "padding": null,
            "grid_auto_rows": null,
            "grid_gap": null,
            "max_width": null,
            "order": null,
            "_view_module_version": "1.2.0",
            "grid_template_areas": null,
            "object_position": null,
            "object_fit": null,
            "grid_auto_columns": null,
            "margin": null,
            "display": null,
            "left": null
          }
        },
        "8f4299beab3248ba8f6707c59e9cfb5f": {
          "model_module": "@jupyter-widgets/controls",
          "model_name": "FloatProgressModel",
          "state": {
            "_view_name": "ProgressView",
            "style": "IPY_MODEL_27a7f87979ef40c89a26776610065b80",
            "_dom_classes": [],
            "description": "  0%",
            "_model_name": "FloatProgressModel",
            "bar_style": "info",
            "max": 1,
            "_view_module": "@jupyter-widgets/controls",
            "_model_module_version": "1.5.0",
            "value": 0,
            "_view_count": null,
            "_view_module_version": "1.5.0",
            "orientation": "horizontal",
            "min": 0,
            "description_tooltip": null,
            "_model_module": "@jupyter-widgets/controls",
            "layout": "IPY_MODEL_b5bc84c025a9435fbc422167170ac739"
          }
        },
        "1628d55a597b4cf5a60553dc85d54741": {
          "model_module": "@jupyter-widgets/controls",
          "model_name": "HTMLModel",
          "state": {
            "_view_name": "HTMLView",
            "style": "IPY_MODEL_c66b5164e39e4403a685e3c095e94fc9",
            "_dom_classes": [],
            "description": "",
            "_model_name": "HTMLModel",
            "placeholder": "​",
            "_view_module": "@jupyter-widgets/controls",
            "_model_module_version": "1.5.0",
            "value": " 0/4542 [00:00&lt;?, ?it/s]",
            "_view_count": null,
            "_view_module_version": "1.5.0",
            "description_tooltip": null,
            "_model_module": "@jupyter-widgets/controls",
            "layout": "IPY_MODEL_d3e281d50dbd472589155ccefc373cc1"
          }
        },
        "27a7f87979ef40c89a26776610065b80": {
          "model_module": "@jupyter-widgets/controls",
          "model_name": "ProgressStyleModel",
          "state": {
            "_view_name": "StyleView",
            "_model_name": "ProgressStyleModel",
            "description_width": "initial",
            "_view_module": "@jupyter-widgets/base",
            "_model_module_version": "1.5.0",
            "_view_count": null,
            "_view_module_version": "1.2.0",
            "bar_color": null,
            "_model_module": "@jupyter-widgets/controls"
          }
        },
        "b5bc84c025a9435fbc422167170ac739": {
          "model_module": "@jupyter-widgets/base",
          "model_name": "LayoutModel",
          "state": {
            "_view_name": "LayoutView",
            "grid_template_rows": null,
            "right": null,
            "justify_content": null,
            "_view_module": "@jupyter-widgets/base",
            "overflow": null,
            "_model_module_version": "1.2.0",
            "_view_count": null,
            "flex_flow": null,
            "width": null,
            "min_width": null,
            "border": null,
            "align_items": null,
            "bottom": null,
            "_model_module": "@jupyter-widgets/base",
            "top": null,
            "grid_column": null,
            "overflow_y": null,
            "overflow_x": null,
            "grid_auto_flow": null,
            "grid_area": null,
            "grid_template_columns": null,
            "flex": null,
            "_model_name": "LayoutModel",
            "justify_items": null,
            "grid_row": null,
            "max_height": null,
            "align_content": null,
            "visibility": null,
            "align_self": null,
            "height": null,
            "min_height": null,
            "padding": null,
            "grid_auto_rows": null,
            "grid_gap": null,
            "max_width": null,
            "order": null,
            "_view_module_version": "1.2.0",
            "grid_template_areas": null,
            "object_position": null,
            "object_fit": null,
            "grid_auto_columns": null,
            "margin": null,
            "display": null,
            "left": null
          }
        },
        "c66b5164e39e4403a685e3c095e94fc9": {
          "model_module": "@jupyter-widgets/controls",
          "model_name": "DescriptionStyleModel",
          "state": {
            "_view_name": "StyleView",
            "_model_name": "DescriptionStyleModel",
            "description_width": "",
            "_view_module": "@jupyter-widgets/base",
            "_model_module_version": "1.5.0",
            "_view_count": null,
            "_view_module_version": "1.2.0",
            "_model_module": "@jupyter-widgets/controls"
          }
        },
        "d3e281d50dbd472589155ccefc373cc1": {
          "model_module": "@jupyter-widgets/base",
          "model_name": "LayoutModel",
          "state": {
            "_view_name": "LayoutView",
            "grid_template_rows": null,
            "right": null,
            "justify_content": null,
            "_view_module": "@jupyter-widgets/base",
            "overflow": null,
            "_model_module_version": "1.2.0",
            "_view_count": null,
            "flex_flow": null,
            "width": null,
            "min_width": null,
            "border": null,
            "align_items": null,
            "bottom": null,
            "_model_module": "@jupyter-widgets/base",
            "top": null,
            "grid_column": null,
            "overflow_y": null,
            "overflow_x": null,
            "grid_auto_flow": null,
            "grid_area": null,
            "grid_template_columns": null,
            "flex": null,
            "_model_name": "LayoutModel",
            "justify_items": null,
            "grid_row": null,
            "max_height": null,
            "align_content": null,
            "visibility": null,
            "align_self": null,
            "height": null,
            "min_height": null,
            "padding": null,
            "grid_auto_rows": null,
            "grid_gap": null,
            "max_width": null,
            "order": null,
            "_view_module_version": "1.2.0",
            "grid_template_areas": null,
            "object_position": null,
            "object_fit": null,
            "grid_auto_columns": null,
            "margin": null,
            "display": null,
            "left": null
          }
        }
      }
    }
  },
  "cells": [
    {
      "cell_type": "markdown",
      "metadata": {
        "id": "view-in-github",
        "colab_type": "text"
      },
      "source": [
        "<a href=\"https://colab.research.google.com/github/GazalaSayyad/Handwritten-recognition-using-Pytorch/blob/master/MNIST.ipynb\" target=\"_parent\"><img src=\"https://colab.research.google.com/assets/colab-badge.svg\" alt=\"Open In Colab\"/></a>"
      ]
    },
    {
      "cell_type": "markdown",
      "metadata": {
        "id": "OrjTTL91AnOy",
        "colab_type": "text"
      },
      "source": [
        "Import packages"
      ]
    },
    {
      "cell_type": "code",
      "metadata": {
        "id": "zuKSrdUcAnfd",
        "colab_type": "code",
        "colab": {}
      },
      "source": [
        "# Importing torch library, which is a popular one for deep learning\n",
        "import torch\n",
        "import torch.nn as nn\n",
        "import torch.utils as utils\n",
        "from torch.autograd import Variable\n",
        "import torchvision\n",
        "import torchvision.transforms as transforms\n",
        "import torch.utils.data as Data\n",
        "import torch.nn.functional as F\n",
        "\n",
        "# OS is a standard python library, which we use for accessing the file system.\n",
        "import os\n",
        "\n",
        "# Matplotllib is used for ploting graphs\n",
        "import matplotlib.pyplot as plt\n",
        "%matplotlib inline\n",
        "\n",
        "from IPython import display"
      ],
      "execution_count": 0,
      "outputs": []
    },
    {
      "cell_type": "code",
      "metadata": {
        "id": "Q8-2s91EA2Hj",
        "colab_type": "code",
        "colab": {
          "base_uri": "https://localhost:8080/",
          "height": 365,
          "referenced_widgets": [
            "e1827902b317433f814ca3e563650dd2",
            "8813295e920d424f9f02c1c87b5bcc2f",
            "39cb65be6c344f619589907184eea9e6",
            "a6a1aab3826f465aac48c3dc6e8b5a91",
            "0e9f4d7c4b914753864d7b7dd7ae0736",
            "c67e122a2c57470a82b6e2aeeeff4841",
            "a3657e196a0d4959b46b6293a49b002f",
            "1147510ab9eb4baa8e900b3a771867d9",
            "d250d6211ba54820befbe0903428a0ab",
            "5b6f5631d18b413f8877d050e8593f6f",
            "96a1e9ddaaa24f6a9bcf83f6b849d9f4",
            "7558709e8687451cb1e63f952e8d55c0",
            "7d00e1527bd84d0fa31000d64333f5ac",
            "ecb015675c0646b88808529120ea2279",
            "3ec0c8c1dfea417ca20881d047d51534",
            "6e1d167077f546db9244d58321258fae",
            "af12e0249bf940d78f08dd9a8dadc547",
            "acc64c9a190a4cfd9907ab686084454e",
            "14e0d0a2e83e4a2cb8292a7518d31952",
            "fdd8f725840a4d3b88b0353478582c18",
            "e344c85909554e78ac7a6f26f508466b",
            "9a2304f1871b4e9ca2852ecc92037298",
            "c623fcb0f1294f98a3d777e818b52291",
            "10c570fa82314f55bd278c545b04a696",
            "050b16f8a9dc4949b80ca92fb44531d0",
            "a9c1d778c7ae4893a8fdebf05b7554ee",
            "8f4299beab3248ba8f6707c59e9cfb5f",
            "1628d55a597b4cf5a60553dc85d54741",
            "27a7f87979ef40c89a26776610065b80",
            "b5bc84c025a9435fbc422167170ac739",
            "c66b5164e39e4403a685e3c095e94fc9",
            "d3e281d50dbd472589155ccefc373cc1"
          ]
        },
        "outputId": "3ab1dbf2-d832-4834-86bf-148e758e351d"
      },
      "source": [
        "# Some code, to check if dataset is already downloaded.\n",
        "DOWNLOAD_MNIST = True\n",
        "if not(os.path.exists('./mnist/')) or not os.listdir('./mnist/'):\n",
        "    DOWNLOAD_MNIST = True\n",
        "\n",
        "# Loading the training data\n",
        "mnist_train = torchvision.datasets.MNIST(\n",
        "    root='./mnist/',\n",
        "    train=True,                                     # this is training data\n",
        "    transform=torchvision.transforms.ToTensor(),    # Converts a PIL.Image or numpy.ndarray to\n",
        "                                                    # torch.FloatTensor of shape (C x H x W) and normalize in the range [0.0, 1.0]\n",
        "    download=DOWNLOAD_MNIST,\n",
        ")\n",
        "\n",
        "# Similarly loading the testing data\n",
        "mnist_test = torchvision.datasets.MNIST(\n",
        "    root='./mnist/',\n",
        "    train=False,                                     \n",
        "    transform=torchvision.transforms.ToTensor(),    \n",
        "    download=DOWNLOAD_MNIST,\n",
        ")\n"
      ],
      "execution_count": 2,
      "outputs": [
        {
          "output_type": "stream",
          "text": [
            "Downloading http://yann.lecun.com/exdb/mnist/train-images-idx3-ubyte.gz to ./mnist/MNIST/raw/train-images-idx3-ubyte.gz\n"
          ],
          "name": "stdout"
        },
        {
          "output_type": "display_data",
          "data": {
            "application/vnd.jupyter.widget-view+json": {
              "model_id": "e1827902b317433f814ca3e563650dd2",
              "version_minor": 0,
              "version_major": 2
            },
            "text/plain": [
              "HBox(children=(FloatProgress(value=1.0, bar_style='info', max=1.0), HTML(value='')))"
            ]
          },
          "metadata": {
            "tags": []
          }
        },
        {
          "output_type": "stream",
          "text": [
            "Extracting ./mnist/MNIST/raw/train-images-idx3-ubyte.gz to ./mnist/MNIST/raw\n",
            "Downloading http://yann.lecun.com/exdb/mnist/train-labels-idx1-ubyte.gz to ./mnist/MNIST/raw/train-labels-idx1-ubyte.gz\n"
          ],
          "name": "stdout"
        },
        {
          "output_type": "display_data",
          "data": {
            "application/vnd.jupyter.widget-view+json": {
              "model_id": "d250d6211ba54820befbe0903428a0ab",
              "version_minor": 0,
              "version_major": 2
            },
            "text/plain": [
              "HBox(children=(FloatProgress(value=1.0, bar_style='info', max=1.0), HTML(value='')))"
            ]
          },
          "metadata": {
            "tags": []
          }
        },
        {
          "output_type": "stream",
          "text": [
            "Extracting ./mnist/MNIST/raw/train-labels-idx1-ubyte.gz to ./mnist/MNIST/raw\n",
            "Downloading http://yann.lecun.com/exdb/mnist/t10k-images-idx3-ubyte.gz to ./mnist/MNIST/raw/t10k-images-idx3-ubyte.gz\n"
          ],
          "name": "stdout"
        },
        {
          "output_type": "display_data",
          "data": {
            "application/vnd.jupyter.widget-view+json": {
              "model_id": "af12e0249bf940d78f08dd9a8dadc547",
              "version_minor": 0,
              "version_major": 2
            },
            "text/plain": [
              "HBox(children=(FloatProgress(value=1.0, bar_style='info', max=1.0), HTML(value='')))"
            ]
          },
          "metadata": {
            "tags": []
          }
        },
        {
          "output_type": "stream",
          "text": [
            "Extracting ./mnist/MNIST/raw/t10k-images-idx3-ubyte.gz to ./mnist/MNIST/raw\n",
            "Downloading http://yann.lecun.com/exdb/mnist/t10k-labels-idx1-ubyte.gz to ./mnist/MNIST/raw/t10k-labels-idx1-ubyte.gz\n"
          ],
          "name": "stdout"
        },
        {
          "output_type": "display_data",
          "data": {
            "application/vnd.jupyter.widget-view+json": {
              "model_id": "050b16f8a9dc4949b80ca92fb44531d0",
              "version_minor": 0,
              "version_major": 2
            },
            "text/plain": [
              "HBox(children=(FloatProgress(value=1.0, bar_style='info', max=1.0), HTML(value='')))"
            ]
          },
          "metadata": {
            "tags": []
          }
        },
        {
          "output_type": "stream",
          "text": [
            "Extracting ./mnist/MNIST/raw/t10k-labels-idx1-ubyte.gz to ./mnist/MNIST/raw\n",
            "Processing...\n",
            "Done!\n"
          ],
          "name": "stdout"
        },
        {
          "output_type": "stream",
          "text": [
            "/pytorch/torch/csrc/utils/tensor_numpy.cpp:141: UserWarning: The given NumPy array is not writeable, and PyTorch does not support non-writeable tensors. This means you can write to the underlying (supposedly non-writeable) NumPy array using the tensor. You may want to copy the array to protect its data or make it writeable before converting it to a tensor. This type of warning will be suppressed for the rest of this program.\n"
          ],
          "name": "stderr"
        }
      ]
    },
    {
      "cell_type": "code",
      "metadata": {
        "id": "Cki_jGbsA-8s",
        "colab_type": "code",
        "outputId": "e21803ad-94d3-478d-90df-2e727f5b8eb3",
        "colab": {
          "base_uri": "https://localhost:8080/",
          "height": 481
        }
      },
      "source": [
        "# ploting one example\n",
        "print(\"Shape of the training data (no of images, height, width) : \", mnist_train.train_data.size()) # (60000, 28, 28)\n",
        "print(\"Shape of the testing data (no of images, height, width) : \", mnist_test.test_data.size())  # (10000, 28, 28)\n",
        "print(\"\\n\")\n",
        "print(\"###### An Example Image, Label pair ############\")\n",
        "plt.imshow(mnist_train.train_data[0].numpy(), cmap='gray')\n",
        "plt.title('Label : %i' % mnist_train.train_labels[0])\n",
        "plt.show()"
      ],
      "execution_count": 3,
      "outputs": [
        {
          "output_type": "stream",
          "text": [
            "Shape of the training data (no of images, height, width) :  torch.Size([60000, 28, 28])\n",
            "Shape of the testing data (no of images, height, width) :  torch.Size([10000, 28, 28])\n",
            "\n",
            "\n",
            "###### An Example Image, Label pair ############\n"
          ],
          "name": "stdout"
        },
        {
          "output_type": "stream",
          "text": [
            "/usr/local/lib/python3.6/dist-packages/torchvision/datasets/mnist.py:55: UserWarning: train_data has been renamed data\n",
            "  warnings.warn(\"train_data has been renamed data\")\n",
            "/usr/local/lib/python3.6/dist-packages/torchvision/datasets/mnist.py:60: UserWarning: test_data has been renamed data\n",
            "  warnings.warn(\"test_data has been renamed data\")\n",
            "/usr/local/lib/python3.6/dist-packages/torchvision/datasets/mnist.py:45: UserWarning: train_labels has been renamed targets\n",
            "  warnings.warn(\"train_labels has been renamed targets\")\n"
          ],
          "name": "stderr"
        },
        {
          "output_type": "display_data",
          "data": {
            "image/png": "[encoded data removed]",
            "text/plain": [
              "<Figure size 432x288 with 1 Axes>"
            ]
          },
          "metadata": {
            "tags": [],
            "needs_background": "light"
          }
        }
      ]
    },
    {
      "cell_type": "markdown",
      "metadata": {
        "id": "m20Qu0VeBWr1",
        "colab_type": "text"
      },
      "source": [
        "Minibatch"
      ]
    },
    {
      "cell_type": "code",
      "metadata": {
        "id": "02bP2yd5An1F",
        "colab_type": "code",
        "outputId": "78966f72-cfe4-455e-f9b0-b74a229145bd",
        "colab": {
          "base_uri": "https://localhost:8080/",
          "height": 1000
        }
      },
      "source": [
        "batch_size = 1000 # The mini batch size used for doing the training\n",
        "\n",
        "# Data Loader for easy mini-batch loading,\n",
        "# the image batch shape will be (batch_size, 1, 28, 28)\n",
        "train_loader = Data.DataLoader(dataset=mnist_train, batch_size=batch_size, shuffle=True)\n",
        "test_loader = Data.DataLoader(dataset=mnist_test, batch_size=batch_size, shuffle=True)\n",
        "\n",
        "count = 0\n",
        "for mini_batch in train_loader:\n",
        "    images, labels = mini_batch\n",
        "    print('Mini batch size: images -', images.size(), ' labels - ', labels.size())\n",
        "    for j in range(2):#basically simply iterating a few times (hence range(2)) to print a few images in this mini-batch\n",
        "        print(images[j].size(), labels[j])\n",
        "        plt.imshow(images[j][0].numpy(), cmap='gray')\n",
        "        plt.title('Label : %i' % labels[j])\n",
        "        plt.show()\n",
        "\n",
        "# Some logic to break out of the loop.\n",
        "        if j == 1:\n",
        "            break\n",
        "    if count == 1:\n",
        "        break\n",
        "        \n",
        "    count +=1"
      ],
      "execution_count": 4,
      "outputs": [
        {
          "output_type": "stream",
          "text": [
            "Mini batch size: images - torch.Size([1000, 1, 28, 28])  labels -  torch.Size([1000])\n",
            "torch.Size([1, 28, 28]) tensor(1)\n"
          ],
          "name": "stdout"
        },
        {
          "output_type": "display_data",
          "data": {
            "image/png": "[encoded data removed]",
            "text/plain": [
              "<Figure size 432x288 with 1 Axes>"
            ]
          },
          "metadata": {
            "tags": [],
            "needs_background": "light"
          }
        },
        {
          "output_type": "stream",
          "text": [
            "torch.Size([1, 28, 28]) tensor(8)\n"
          ],
          "name": "stdout"
        },
        {
          "output_type": "display_data",
          "data": {
            "image/png": "[encoded data removed]",
            "text/plain": [
              "<Figure size 432x288 with 1 Axes>"
            ]
          },
          "metadata": {
            "tags": [],
            "needs_background": "light"
          }
        },
        {
          "output_type": "stream",
          "text": [
            "Mini batch size: images - torch.Size([1000, 1, 28, 28])  labels -  torch.Size([1000])\n",
            "torch.Size([1, 28, 28]) tensor(0)\n"
          ],
          "name": "stdout"
        },
        {
          "output_type": "display_data",
          "data": {
            "image/png": "[encoded data removed]",
            "text/plain": [
              "<Figure size 432x288 with 1 Axes>"
            ]
          },
          "metadata": {
            "tags": [],
            "needs_background": "light"
          }
        },
        {
          "output_type": "stream",
          "text": [
            "torch.Size([1, 28, 28]) tensor(2)\n"
          ],
          "name": "stdout"
        },
        {
          "output_type": "display_data",
          "data": {
            "image/png": "[encoded data removed]",
            "text/plain": [
              "<Figure size 432x288 with 1 Axes>"
            ]
          },
          "metadata": {
            "tags": [],
            "needs_background": "light"
          }
        }
      ]
    },
    {
      "cell_type": "code",
      "metadata": {
        "id": "azEjMO2iWs8d",
        "colab_type": "code",
        "colab": {}
      },
      "source": [
        "# A CNN based Feature extractor\n",
        "# Definining neural network in python by a class which inherits from nn.Module\n",
        "class LeNet(nn.Module):\n",
        "    \"\"\"LeNet feature extractor model.\"\"\"\n",
        "\n",
        "    def __init__(self):\n",
        "        \"\"\"Init LeNet feature extractor model.\"\"\"\n",
        "        super(LeNet, self).__init__()\n",
        "\n",
        "        # Defining the CNNfeature Extractor\n",
        "        self.feature_extractor = nn.Sequential(\n",
        "            # input [1 x 28 x 28]\n",
        "            # 1st conv layer\n",
        "            # Conv which convolves input image with 6 filters of 5x5 size, without padding\n",
        "            nn.Conv2d(1, 6, kernel_size=5),\n",
        "            # [6 x 24 x` 24]\n",
        "            nn.MaxPool2d(kernel_size=2), # Max pooling subsampling operation\n",
        "            # [6 x 12 x 12]\n",
        "            nn.ReLU(), # Non linear activation function\n",
        "            # 2nd conv layer\n",
        "            # input [6 x 12 x 12]\n",
        "            # Conv which convolves input image with 16 filters of 5x5 size, without padding\n",
        "            nn.Conv2d(6, 16, kernel_size=5),\n",
        "            # [16 x 8 x 8]\n",
        "            nn.MaxPool2d(kernel_size=2),\n",
        "            # [16 x 4 x 4]\n",
        "            nn.ReLU()\n",
        "        )\n",
        "        \n",
        "        # Defining the Classifier\n",
        "        self.classifier = nn.Sequential(\n",
        "            # Linear layer with 120 nodes, taking a flattened [16 x 4 x 4] as input\n",
        "            nn.Linear(16 * 4 * 4, 120),\n",
        "            # Linear layer with 84 nodes\n",
        "            nn.Linear(120, 84),\n",
        "            # ReLU\n",
        "            nn.ReLU(),\n",
        "            # Output layer with as many nodes as number of classes\n",
        "            nn.Linear(84, 10)\n",
        "        )\n",
        "        \n",
        "    def forward(self, input):\n",
        "        \"\"\"Define a Forward pass of the LeNet.\"\"\"\n",
        "        out = self.feature_extractor(input) # Pass input through the feature extractor\n",
        "        out = out.view(-1, 16 * 4 * 4) # Reshape the 2D to a vector\n",
        "        out = self.classifier(out) # pass features through the classifier to get predictions\n",
        "        return out"
      ],
      "execution_count": 0,
      "outputs": []
    },
    {
      "cell_type": "code",
      "metadata": {
        "id": "Uw72W8EnW29_",
        "colab_type": "code",
        "outputId": "3db37a7b-9aed-4d26-dfe6-7789f323458c",
        "colab": {
          "base_uri": "https://localhost:8080/",
          "height": 563
        }
      },
      "source": [
        "lenet = LeNet()\n",
        "\n",
        "\n",
        "device = torch.device(\"cuda:0\" if torch.cuda.is_available() else \"cpu\")\n",
        "\n",
        "lenet = lenet.to(device)\n",
        "\n",
        "# Print out the size of parameters of each layer\n",
        "for name, param in lenet.state_dict().items():\n",
        "    print(name, '\\n', param.size(), '\\n')"
      ],
      "execution_count": 6,
      "outputs": [
        {
          "output_type": "stream",
          "text": [
            "feature_extractor.0.weight \n",
            " torch.Size([6, 1, 5, 5]) \n",
            "\n",
            "feature_extractor.0.bias \n",
            " torch.Size([6]) \n",
            "\n",
            "feature_extractor.3.weight \n",
            " torch.Size([16, 6, 5, 5]) \n",
            "\n",
            "feature_extractor.3.bias \n",
            " torch.Size([16]) \n",
            "\n",
            "classifier.0.weight \n",
            " torch.Size([120, 256]) \n",
            "\n",
            "classifier.0.bias \n",
            " torch.Size([120]) \n",
            "\n",
            "classifier.1.weight \n",
            " torch.Size([84, 120]) \n",
            "\n",
            "classifier.1.bias \n",
            " torch.Size([84]) \n",
            "\n",
            "classifier.3.weight \n",
            " torch.Size([10, 84]) \n",
            "\n",
            "classifier.3.bias \n",
            " torch.Size([10]) \n",
            "\n"
          ],
          "name": "stdout"
        }
      ]
    },
    {
      "cell_type": "code",
      "metadata": {
        "id": "rc5a6MhmdSgY",
        "colab_type": "code",
        "colab": {}
      },
      "source": [
        "loss_func = nn.CrossEntropyLoss()\n",
        "\n",
        "# Set the learning rate\n",
        "learning_rate = 0.001\n",
        "\n",
        "optimizer = torch.optim.Adam(lenet.parameters(), lr=learning_rate)\n",
        "# optimizer = torch.optim.SGD(lenet.parameters(), lr=learning_rate, momentum=0.0)"
      ],
      "execution_count": 0,
      "outputs": []
    },
    {
      "cell_type": "code",
      "metadata": {
        "id": "QosrGqh4XQ9Y",
        "colab_type": "code",
        "outputId": "56b4fa22-4973-472a-dbab-86f8468312ad",
        "colab": {
          "base_uri": "https://localhost:8080/",
          "height": 410
        }
      },
      "source": [
        "# The number of times we should iterate over the training data. 1 epoch = 1 pass over the training data\n",
        "epoch = 8\n",
        "\n",
        "# Train Model with train data\n",
        "\n",
        "loss_history = []\n",
        "\n",
        "for i in range(epoch):\n",
        "    print('####### Epoch ', i)\n",
        "    for j,[image,label] in enumerate(train_loader):\n",
        "        # You can try with and without using GPUs, by setting this variable before the loop\n",
        "       # if use_gpu == \"cuda\":\n",
        "        image = image.to(device)\n",
        "        label = label.to(device)\n",
        "            \n",
        "        #image = image\n",
        "        #label = label\n",
        "        \n",
        "        \n",
        "        optimizer.zero_grad() # zero out the gradients from the preivous step \n",
        "        predictions = lenet.forward(image) # Do forward pass on the current mini batch\n",
        "        loss = loss_func(predictions, label) # Compute loss on the current mini batch\n",
        "        loss.backward() # Do backward pass. That is compute all the gradients for the current minibatch\n",
        "        optimizer.step() # Update the parameters using the gradients with the learning rate\n",
        "        \n",
        "        if j % 100 == 0:\n",
        "            loss_history.append(loss.item())\n",
        "                    \n",
        "        # display.clear_output(wait=True)\n",
        "plt.plot(loss_history)\n",
        "plt.show()"
      ],
      "execution_count": 8,
      "outputs": [
        {
          "output_type": "stream",
          "text": [
            "####### Epoch  0\n",
            "####### Epoch  1\n",
            "####### Epoch  2\n",
            "####### Epoch  3\n",
            "####### Epoch  4\n",
            "####### Epoch  5\n",
            "####### Epoch  6\n",
            "####### Epoch  7\n"
          ],
          "name": "stdout"
        },
        {
          "output_type": "display_data",
          "data": {
            "image/png": "[encoded data removed]",
            "text/plain": [
              "<Figure size 432x288 with 1 Axes>"
            ]
          },
          "metadata": {
            "tags": [],
            "needs_background": "light"
          }
        }
      ]
    },
    {
      "cell_type": "code",
      "metadata": {
        "id": "rDE8kbn0kF1n",
        "colab_type": "code",
        "outputId": "2f7b7c2d-ecc7-47c3-9c7c-1a0fb52336d2",
        "colab": {
          "base_uri": "https://localhost:8080/",
          "height": 35
        }
      },
      "source": [
        "correct = 0.0\n",
        "total = 0.0\n",
        "for mini_batch in test_loader:\n",
        "    images, labels = mini_batch\n",
        "    \n",
        "    # You can try with and without using GPUs, by setting this variable before the loop\n",
        "    #if use_gpu == \"cuda\":\n",
        "    images = images.to(device)\n",
        "    labels = labels.to(device)\n",
        "        \n",
        "    #images = images\n",
        "     \n",
        "    # Doing the Forward pass\n",
        "    result = lenet(images)\n",
        " #   print(result.shape)\n",
        "    \n",
        "    # Coverting the predictions to probabilities, by applying the softmax function\n",
        "    result = F.softmax(result,dim=1)\n",
        "    \n",
        "    #print(torch.sum(result,dim=1))\n",
        " \n",
        "    # Finding the prediction with the largest probability\n",
        "    _,pred = torch.max(result.data,1)\n",
        "    \n",
        "    total += labels.size(0)\n",
        "    # correct is incremented by the numer of prediction which are correct (equal to the ground truth labels)\n",
        "    correct += (pred == labels).sum().item()\n",
        "    \n",
        "print(\"Accuracy of Test Data: {0:.2f}%\".format(correct/total *100))"
      ],
      "execution_count": 9,
      "outputs": [
        {
          "output_type": "stream",
          "text": [
            "Accuracy of Test Data: 97.41%\n"
          ],
          "name": "stdout"
        }
      ]
    }
  ]
}