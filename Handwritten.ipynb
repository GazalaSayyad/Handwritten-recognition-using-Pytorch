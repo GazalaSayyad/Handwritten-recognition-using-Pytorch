{
  "nbformat": 4,
  "nbformat_minor": 0,
  "metadata": {
    "colab": {
      "name": "Handwritten.ipynb",
      "provenance": [],
      "collapsed_sections": [],
      "authorship_tag": "ABX9TyOx8B1SJNQkXD/a3AytIDmc",
      "include_colab_link": true
    },
    "kernelspec": {
      "name": "python3",
      "display_name": "Python 3"
    },
    "widgets": {
      "application/vnd.jupyter.widget-state+json": {
        "7f4faf1d45514d63a3e9df8028bd1acb": {
          "model_module": "@jupyter-widgets/controls",
          "model_name": "HBoxModel",
          "state": {
            "_view_name": "HBoxView",
            "_dom_classes": [],
            "_model_name": "HBoxModel",
            "_view_module": "@jupyter-widgets/controls",
            "_model_module_version": "1.5.0",
            "_view_count": null,
            "_view_module_version": "1.5.0",
            "box_style": "",
            "layout": "IPY_MODEL_c8b3c081eab84c11b19dad8c61bf0336",
            "_model_module": "@jupyter-widgets/controls",
            "children": [
              "IPY_MODEL_97e0c5ad2dbe46efadf37fe63431db35",
              "IPY_MODEL_dc99256948fb4ab8951e7b94d17641b4"
            ]
          }
        },
        "c8b3c081eab84c11b19dad8c61bf0336": {
          "model_module": "@jupyter-widgets/base",
          "model_name": "LayoutModel",
          "state": {
            "_view_name": "LayoutView",
            "grid_template_rows": null,
            "right": null,
            "justify_content": null,
            "_view_module": "@jupyter-widgets/base",
            "overflow": null,
            "_model_module_version": "1.2.0",
            "_view_count": null,
            "flex_flow": null,
            "width": null,
            "min_width": null,
            "border": null,
            "align_items": null,
            "bottom": null,
            "_model_module": "@jupyter-widgets/base",
            "top": null,
            "grid_column": null,
            "overflow_y": null,
            "overflow_x": null,
            "grid_auto_flow": null,
            "grid_area": null,
            "grid_template_columns": null,
            "flex": null,
            "_model_name": "LayoutModel",
            "justify_items": null,
            "grid_row": null,
            "max_height": null,
            "align_content": null,
            "visibility": null,
            "align_self": null,
            "height": null,
            "min_height": null,
            "padding": null,
            "grid_auto_rows": null,
            "grid_gap": null,
            "max_width": null,
            "order": null,
            "_view_module_version": "1.2.0",
            "grid_template_areas": null,
            "object_position": null,
            "object_fit": null,
            "grid_auto_columns": null,
            "margin": null,
            "display": null,
            "left": null
          }
        },
        "97e0c5ad2dbe46efadf37fe63431db35": {
          "model_module": "@jupyter-widgets/controls",
          "model_name": "IntProgressModel",
          "state": {
            "_view_name": "ProgressView",
            "style": "IPY_MODEL_2acdcefe0416437ca0eb95648792d57c",
            "_dom_classes": [],
            "description": "",
            "_model_name": "IntProgressModel",
            "bar_style": "success",
            "max": 1,
            "_view_module": "@jupyter-widgets/controls",
            "_model_module_version": "1.5.0",
            "value": 1,
            "_view_count": null,
            "_view_module_version": "1.5.0",
            "orientation": "horizontal",
            "min": 0,
            "description_tooltip": null,
            "_model_module": "@jupyter-widgets/controls",
            "layout": "IPY_MODEL_4a2e0eed71af4589b39457030bd5a9a7"
          }
        },
        "dc99256948fb4ab8951e7b94d17641b4": {
          "model_module": "@jupyter-widgets/controls",
          "model_name": "HTMLModel",
          "state": {
            "_view_name": "HTMLView",
            "style": "IPY_MODEL_e6b8ee3941814d16959dad1a31365daf",
            "_dom_classes": [],
            "description": "",
            "_model_name": "HTMLModel",
            "placeholder": "​",
            "_view_module": "@jupyter-widgets/controls",
            "_model_module_version": "1.5.0",
            "value": "9920512it [00:00, 24028746.48it/s]",
            "_view_count": null,
            "_view_module_version": "1.5.0",
            "description_tooltip": null,
            "_model_module": "@jupyter-widgets/controls",
            "layout": "IPY_MODEL_efc6f309088b4cab84d69b7545d5a231"
          }
        },
        "2acdcefe0416437ca0eb95648792d57c": {
          "model_module": "@jupyter-widgets/controls",
          "model_name": "ProgressStyleModel",
          "state": {
            "_view_name": "StyleView",
            "_model_name": "ProgressStyleModel",
            "description_width": "",
            "_view_module": "@jupyter-widgets/base",
            "_model_module_version": "1.5.0",
            "_view_count": null,
            "_view_module_version": "1.2.0",
            "bar_color": null,
            "_model_module": "@jupyter-widgets/controls"
          }
        },
        "4a2e0eed71af4589b39457030bd5a9a7": {
          "model_module": "@jupyter-widgets/base",
          "model_name": "LayoutModel",
          "state": {
            "_view_name": "LayoutView",
            "grid_template_rows": null,
            "right": null,
            "justify_content": null,
            "_view_module": "@jupyter-widgets/base",
            "overflow": null,
            "_model_module_version": "1.2.0",
            "_view_count": null,
            "flex_flow": null,
            "width": null,
            "min_width": null,
            "border": null,
            "align_items": null,
            "bottom": null,
            "_model_module": "@jupyter-widgets/base",
            "top": null,
            "grid_column": null,
            "overflow_y": null,
            "overflow_x": null,
            "grid_auto_flow": null,
            "grid_area": null,
            "grid_template_columns": null,
            "flex": null,
            "_model_name": "LayoutModel",
            "justify_items": null,
            "grid_row": null,
            "max_height": null,
            "align_content": null,
            "visibility": null,
            "align_self": null,
            "height": null,
            "min_height": null,
            "padding": null,
            "grid_auto_rows": null,
            "grid_gap": null,
            "max_width": null,
            "order": null,
            "_view_module_version": "1.2.0",
            "grid_template_areas": null,
            "object_position": null,
            "object_fit": null,
            "grid_auto_columns": null,
            "margin": null,
            "display": null,
            "left": null
          }
        },
        "e6b8ee3941814d16959dad1a31365daf": {
          "model_module": "@jupyter-widgets/controls",
          "model_name": "DescriptionStyleModel",
          "state": {
            "_view_name": "StyleView",
            "_model_name": "DescriptionStyleModel",
            "description_width": "",
            "_view_module": "@jupyter-widgets/base",
            "_model_module_version": "1.5.0",
            "_view_count": null,
            "_view_module_version": "1.2.0",
            "_model_module": "@jupyter-widgets/controls"
          }
        },
        "efc6f309088b4cab84d69b7545d5a231": {
          "model_module": "@jupyter-widgets/base",
          "model_name": "LayoutModel",
          "state": {
            "_view_name": "LayoutView",
            "grid_template_rows": null,
            "right": null,
            "justify_content": null,
            "_view_module": "@jupyter-widgets/base",
            "overflow": null,
            "_model_module_version": "1.2.0",
            "_view_count": null,
            "flex_flow": null,
            "width": null,
            "min_width": null,
            "border": null,
            "align_items": null,
            "bottom": null,
            "_model_module": "@jupyter-widgets/base",
            "top": null,
            "grid_column": null,
            "overflow_y": null,
            "overflow_x": null,
            "grid_auto_flow": null,
            "grid_area": null,
            "grid_template_columns": null,
            "flex": null,
            "_model_name": "LayoutModel",
            "justify_items": null,
            "grid_row": null,
            "max_height": null,
            "align_content": null,
            "visibility": null,
            "align_self": null,
            "height": null,
            "min_height": null,
            "padding": null,
            "grid_auto_rows": null,
            "grid_gap": null,
            "max_width": null,
            "order": null,
            "_view_module_version": "1.2.0",
            "grid_template_areas": null,
            "object_position": null,
            "object_fit": null,
            "grid_auto_columns": null,
            "margin": null,
            "display": null,
            "left": null
          }
        },
        "0d14458c29c840a2b508d2be6590ece5": {
          "model_module": "@jupyter-widgets/controls",
          "model_name": "HBoxModel",
          "state": {
            "_view_name": "HBoxView",
            "_dom_classes": [],
            "_model_name": "HBoxModel",
            "_view_module": "@jupyter-widgets/controls",
            "_model_module_version": "1.5.0",
            "_view_count": null,
            "_view_module_version": "1.5.0",
            "box_style": "",
            "layout": "IPY_MODEL_63fb8b798ba34d7b8ab696f88c584434",
            "_model_module": "@jupyter-widgets/controls",
            "children": [
              "IPY_MODEL_292d1b6ff6134a83ac2276e0442d8e92",
              "IPY_MODEL_c69c2265c55145caa1827c83e0999e0c"
            ]
          }
        },
        "63fb8b798ba34d7b8ab696f88c584434": {
          "model_module": "@jupyter-widgets/base",
          "model_name": "LayoutModel",
          "state": {
            "_view_name": "LayoutView",
            "grid_template_rows": null,
            "right": null,
            "justify_content": null,
            "_view_module": "@jupyter-widgets/base",
            "overflow": null,
            "_model_module_version": "1.2.0",
            "_view_count": null,
            "flex_flow": null,
            "width": null,
            "min_width": null,
            "border": null,
            "align_items": null,
            "bottom": null,
            "_model_module": "@jupyter-widgets/base",
            "top": null,
            "grid_column": null,
            "overflow_y": null,
            "overflow_x": null,
            "grid_auto_flow": null,
            "grid_area": null,
            "grid_template_columns": null,
            "flex": null,
            "_model_name": "LayoutModel",
            "justify_items": null,
            "grid_row": null,
            "max_height": null,
            "align_content": null,
            "visibility": null,
            "align_self": null,
            "height": null,
            "min_height": null,
            "padding": null,
            "grid_auto_rows": null,
            "grid_gap": null,
            "max_width": null,
            "order": null,
            "_view_module_version": "1.2.0",
            "grid_template_areas": null,
            "object_position": null,
            "object_fit": null,
            "grid_auto_columns": null,
            "margin": null,
            "display": null,
            "left": null
          }
        },
        "292d1b6ff6134a83ac2276e0442d8e92": {
          "model_module": "@jupyter-widgets/controls",
          "model_name": "IntProgressModel",
          "state": {
            "_view_name": "ProgressView",
            "style": "IPY_MODEL_4c50d15998564b9597c14e15a3db8741",
            "_dom_classes": [],
            "description": "",
            "_model_name": "IntProgressModel",
            "bar_style": "success",
            "max": 1,
            "_view_module": "@jupyter-widgets/controls",
            "_model_module_version": "1.5.0",
            "value": 1,
            "_view_count": null,
            "_view_module_version": "1.5.0",
            "orientation": "horizontal",
            "min": 0,
            "description_tooltip": null,
            "_model_module": "@jupyter-widgets/controls",
            "layout": "IPY_MODEL_b5914bd0660f44bbbd2ef1740b9084fc"
          }
        },
        "c69c2265c55145caa1827c83e0999e0c": {
          "model_module": "@jupyter-widgets/controls",
          "model_name": "HTMLModel",
          "state": {
            "_view_name": "HTMLView",
            "style": "IPY_MODEL_b1f2103472e044d7aedb6ab703afb26f",
            "_dom_classes": [],
            "description": "",
            "_model_name": "HTMLModel",
            "placeholder": "​",
            "_view_module": "@jupyter-widgets/controls",
            "_model_module_version": "1.5.0",
            "value": "32768it [00:00, 205935.61it/s]",
            "_view_count": null,
            "_view_module_version": "1.5.0",
            "description_tooltip": null,
            "_model_module": "@jupyter-widgets/controls",
            "layout": "IPY_MODEL_e26c910bd62746fb9817a4b208912f9b"
          }
        },
        "4c50d15998564b9597c14e15a3db8741": {
          "model_module": "@jupyter-widgets/controls",
          "model_name": "ProgressStyleModel",
          "state": {
            "_view_name": "StyleView",
            "_model_name": "ProgressStyleModel",
            "description_width": "",
            "_view_module": "@jupyter-widgets/base",
            "_model_module_version": "1.5.0",
            "_view_count": null,
            "_view_module_version": "1.2.0",
            "bar_color": null,
            "_model_module": "@jupyter-widgets/controls"
          }
        },
        "b5914bd0660f44bbbd2ef1740b9084fc": {
          "model_module": "@jupyter-widgets/base",
          "model_name": "LayoutModel",
          "state": {
            "_view_name": "LayoutView",
            "grid_template_rows": null,
            "right": null,
            "justify_content": null,
            "_view_module": "@jupyter-widgets/base",
            "overflow": null,
            "_model_module_version": "1.2.0",
            "_view_count": null,
            "flex_flow": null,
            "width": null,
            "min_width": null,
            "border": null,
            "align_items": null,
            "bottom": null,
            "_model_module": "@jupyter-widgets/base",
            "top": null,
            "grid_column": null,
            "overflow_y": null,
            "overflow_x": null,
            "grid_auto_flow": null,
            "grid_area": null,
            "grid_template_columns": null,
            "flex": null,
            "_model_name": "LayoutModel",
            "justify_items": null,
            "grid_row": null,
            "max_height": null,
            "align_content": null,
            "visibility": null,
            "align_self": null,
            "height": null,
            "min_height": null,
            "padding": null,
            "grid_auto_rows": null,
            "grid_gap": null,
            "max_width": null,
            "order": null,
            "_view_module_version": "1.2.0",
            "grid_template_areas": null,
            "object_position": null,
            "object_fit": null,
            "grid_auto_columns": null,
            "margin": null,
            "display": null,
            "left": null
          }
        },
        "b1f2103472e044d7aedb6ab703afb26f": {
          "model_module": "@jupyter-widgets/controls",
          "model_name": "DescriptionStyleModel",
          "state": {
            "_view_name": "StyleView",
            "_model_name": "DescriptionStyleModel",
            "description_width": "",
            "_view_module": "@jupyter-widgets/base",
            "_model_module_version": "1.5.0",
            "_view_count": null,
            "_view_module_version": "1.2.0",
            "_model_module": "@jupyter-widgets/controls"
          }
        },
        "e26c910bd62746fb9817a4b208912f9b": {
          "model_module": "@jupyter-widgets/base",
          "model_name": "LayoutModel",
          "state": {
            "_view_name": "LayoutView",
            "grid_template_rows": null,
            "right": null,
            "justify_content": null,
            "_view_module": "@jupyter-widgets/base",
            "overflow": null,
            "_model_module_version": "1.2.0",
            "_view_count": null,
            "flex_flow": null,
            "width": null,
            "min_width": null,
            "border": null,
            "align_items": null,
            "bottom": null,
            "_model_module": "@jupyter-widgets/base",
            "top": null,
            "grid_column": null,
            "overflow_y": null,
            "overflow_x": null,
            "grid_auto_flow": null,
            "grid_area": null,
            "grid_template_columns": null,
            "flex": null,
            "_model_name": "LayoutModel",
            "justify_items": null,
            "grid_row": null,
            "max_height": null,
            "align_content": null,
            "visibility": null,
            "align_self": null,
            "height": null,
            "min_height": null,
            "padding": null,
            "grid_auto_rows": null,
            "grid_gap": null,
            "max_width": null,
            "order": null,
            "_view_module_version": "1.2.0",
            "grid_template_areas": null,
            "object_position": null,
            "object_fit": null,
            "grid_auto_columns": null,
            "margin": null,
            "display": null,
            "left": null
          }
        },
        "1c807ca73d74412da43e5f2bd229b456": {
          "model_module": "@jupyter-widgets/controls",
          "model_name": "HBoxModel",
          "state": {
            "_view_name": "HBoxView",
            "_dom_classes": [],
            "_model_name": "HBoxModel",
            "_view_module": "@jupyter-widgets/controls",
            "_model_module_version": "1.5.0",
            "_view_count": null,
            "_view_module_version": "1.5.0",
            "box_style": "",
            "layout": "IPY_MODEL_fbcd3b38ad8c4b0ab2dff3910b7ac025",
            "_model_module": "@jupyter-widgets/controls",
            "children": [
              "IPY_MODEL_3ce78e35250b4931ae55ba31295b7276",
              "IPY_MODEL_0ec0194cd34e4a6fa11f4ac7ce7ae7f4"
            ]
          }
        },
        "fbcd3b38ad8c4b0ab2dff3910b7ac025": {
          "model_module": "@jupyter-widgets/base",
          "model_name": "LayoutModel",
          "state": {
            "_view_name": "LayoutView",
            "grid_template_rows": null,
            "right": null,
            "justify_content": null,
            "_view_module": "@jupyter-widgets/base",
            "overflow": null,
            "_model_module_version": "1.2.0",
            "_view_count": null,
            "flex_flow": null,
            "width": null,
            "min_width": null,
            "border": null,
            "align_items": null,
            "bottom": null,
            "_model_module": "@jupyter-widgets/base",
            "top": null,
            "grid_column": null,
            "overflow_y": null,
            "overflow_x": null,
            "grid_auto_flow": null,
            "grid_area": null,
            "grid_template_columns": null,
            "flex": null,
            "_model_name": "LayoutModel",
            "justify_items": null,
            "grid_row": null,
            "max_height": null,
            "align_content": null,
            "visibility": null,
            "align_self": null,
            "height": null,
            "min_height": null,
            "padding": null,
            "grid_auto_rows": null,
            "grid_gap": null,
            "max_width": null,
            "order": null,
            "_view_module_version": "1.2.0",
            "grid_template_areas": null,
            "object_position": null,
            "object_fit": null,
            "grid_auto_columns": null,
            "margin": null,
            "display": null,
            "left": null
          }
        },
        "3ce78e35250b4931ae55ba31295b7276": {
          "model_module": "@jupyter-widgets/controls",
          "model_name": "IntProgressModel",
          "state": {
            "_view_name": "ProgressView",
            "style": "IPY_MODEL_7ff45f6d99f249b3bac78a27bcdfd870",
            "_dom_classes": [],
            "description": "",
            "_model_name": "IntProgressModel",
            "bar_style": "success",
            "max": 1,
            "_view_module": "@jupyter-widgets/controls",
            "_model_module_version": "1.5.0",
            "value": 1,
            "_view_count": null,
            "_view_module_version": "1.5.0",
            "orientation": "horizontal",
            "min": 0,
            "description_tooltip": null,
            "_model_module": "@jupyter-widgets/controls",
            "layout": "IPY_MODEL_5ae94b348ffa4ba08b5ed4fbd40038b4"
          }
        },
        "0ec0194cd34e4a6fa11f4ac7ce7ae7f4": {
          "model_module": "@jupyter-widgets/controls",
          "model_name": "HTMLModel",
          "state": {
            "_view_name": "HTMLView",
            "style": "IPY_MODEL_bae7f7c68fa24280881de68624bb1aa6",
            "_dom_classes": [],
            "description": "",
            "_model_name": "HTMLModel",
            "placeholder": "​",
            "_view_module": "@jupyter-widgets/controls",
            "_model_module_version": "1.5.0",
            "value": "1654784it [00:00, 5635300.51it/s]",
            "_view_count": null,
            "_view_module_version": "1.5.0",
            "description_tooltip": null,
            "_model_module": "@jupyter-widgets/controls",
            "layout": "IPY_MODEL_7b47f7b6786d41f9b9148a645871191f"
          }
        },
        "7ff45f6d99f249b3bac78a27bcdfd870": {
          "model_module": "@jupyter-widgets/controls",
          "model_name": "ProgressStyleModel",
          "state": {
            "_view_name": "StyleView",
            "_model_name": "ProgressStyleModel",
            "description_width": "",
            "_view_module": "@jupyter-widgets/base",
            "_model_module_version": "1.5.0",
            "_view_count": null,
            "_view_module_version": "1.2.0",
            "bar_color": null,
            "_model_module": "@jupyter-widgets/controls"
          }
        },
        "5ae94b348ffa4ba08b5ed4fbd40038b4": {
          "model_module": "@jupyter-widgets/base",
          "model_name": "LayoutModel",
          "state": {
            "_view_name": "LayoutView",
            "grid_template_rows": null,
            "right": null,
            "justify_content": null,
            "_view_module": "@jupyter-widgets/base",
            "overflow": null,
            "_model_module_version": "1.2.0",
            "_view_count": null,
            "flex_flow": null,
            "width": null,
            "min_width": null,
            "border": null,
            "align_items": null,
            "bottom": null,
            "_model_module": "@jupyter-widgets/base",
            "top": null,
            "grid_column": null,
            "overflow_y": null,
            "overflow_x": null,
            "grid_auto_flow": null,
            "grid_area": null,
            "grid_template_columns": null,
            "flex": null,
            "_model_name": "LayoutModel",
            "justify_items": null,
            "grid_row": null,
            "max_height": null,
            "align_content": null,
            "visibility": null,
            "align_self": null,
            "height": null,
            "min_height": null,
            "padding": null,
            "grid_auto_rows": null,
            "grid_gap": null,
            "max_width": null,
            "order": null,
            "_view_module_version": "1.2.0",
            "grid_template_areas": null,
            "object_position": null,
            "object_fit": null,
            "grid_auto_columns": null,
            "margin": null,
            "display": null,
            "left": null
          }
        },
        "bae7f7c68fa24280881de68624bb1aa6": {
          "model_module": "@jupyter-widgets/controls",
          "model_name": "DescriptionStyleModel",
          "state": {
            "_view_name": "StyleView",
            "_model_name": "DescriptionStyleModel",
            "description_width": "",
            "_view_module": "@jupyter-widgets/base",
            "_model_module_version": "1.5.0",
            "_view_count": null,
            "_view_module_version": "1.2.0",
            "_model_module": "@jupyter-widgets/controls"
          }
        },
        "7b47f7b6786d41f9b9148a645871191f": {
          "model_module": "@jupyter-widgets/base",
          "model_name": "LayoutModel",
          "state": {
            "_view_name": "LayoutView",
            "grid_template_rows": null,
            "right": null,
            "justify_content": null,
            "_view_module": "@jupyter-widgets/base",
            "overflow": null,
            "_model_module_version": "1.2.0",
            "_view_count": null,
            "flex_flow": null,
            "width": null,
            "min_width": null,
            "border": null,
            "align_items": null,
            "bottom": null,
            "_model_module": "@jupyter-widgets/base",
            "top": null,
            "grid_column": null,
            "overflow_y": null,
            "overflow_x": null,
            "grid_auto_flow": null,
            "grid_area": null,
            "grid_template_columns": null,
            "flex": null,
            "_model_name": "LayoutModel",
            "justify_items": null,
            "grid_row": null,
            "max_height": null,
            "align_content": null,
            "visibility": null,
            "align_self": null,
            "height": null,
            "min_height": null,
            "padding": null,
            "grid_auto_rows": null,
            "grid_gap": null,
            "max_width": null,
            "order": null,
            "_view_module_version": "1.2.0",
            "grid_template_areas": null,
            "object_position": null,
            "object_fit": null,
            "grid_auto_columns": null,
            "margin": null,
            "display": null,
            "left": null
          }
        },
        "12647a6c12c64961a6eb41b6db562295": {
          "model_module": "@jupyter-widgets/controls",
          "model_name": "HBoxModel",
          "state": {
            "_view_name": "HBoxView",
            "_dom_classes": [],
            "_model_name": "HBoxModel",
            "_view_module": "@jupyter-widgets/controls",
            "_model_module_version": "1.5.0",
            "_view_count": null,
            "_view_module_version": "1.5.0",
            "box_style": "",
            "layout": "IPY_MODEL_8698891b15b2415c95c196e9e6478fe9",
            "_model_module": "@jupyter-widgets/controls",
            "children": [
              "IPY_MODEL_9d54d092ab6840379ed717dd82cccd85",
              "IPY_MODEL_9499e21abe7944d385deb035f3b786af"
            ]
          }
        },
        "8698891b15b2415c95c196e9e6478fe9": {
          "model_module": "@jupyter-widgets/base",
          "model_name": "LayoutModel",
          "state": {
            "_view_name": "LayoutView",
            "grid_template_rows": null,
            "right": null,
            "justify_content": null,
            "_view_module": "@jupyter-widgets/base",
            "overflow": null,
            "_model_module_version": "1.2.0",
            "_view_count": null,
            "flex_flow": null,
            "width": null,
            "min_width": null,
            "border": null,
            "align_items": null,
            "bottom": null,
            "_model_module": "@jupyter-widgets/base",
            "top": null,
            "grid_column": null,
            "overflow_y": null,
            "overflow_x": null,
            "grid_auto_flow": null,
            "grid_area": null,
            "grid_template_columns": null,
            "flex": null,
            "_model_name": "LayoutModel",
            "justify_items": null,
            "grid_row": null,
            "max_height": null,
            "align_content": null,
            "visibility": null,
            "align_self": null,
            "height": null,
            "min_height": null,
            "padding": null,
            "grid_auto_rows": null,
            "grid_gap": null,
            "max_width": null,
            "order": null,
            "_view_module_version": "1.2.0",
            "grid_template_areas": null,
            "object_position": null,
            "object_fit": null,
            "grid_auto_columns": null,
            "margin": null,
            "display": null,
            "left": null
          }
        },
        "9d54d092ab6840379ed717dd82cccd85": {
          "model_module": "@jupyter-widgets/controls",
          "model_name": "IntProgressModel",
          "state": {
            "_view_name": "ProgressView",
            "style": "IPY_MODEL_a3cf7160f5344233a6499f63dc4561f4",
            "_dom_classes": [],
            "description": "",
            "_model_name": "IntProgressModel",
            "bar_style": "success",
            "max": 1,
            "_view_module": "@jupyter-widgets/controls",
            "_model_module_version": "1.5.0",
            "value": 1,
            "_view_count": null,
            "_view_module_version": "1.5.0",
            "orientation": "horizontal",
            "min": 0,
            "description_tooltip": null,
            "_model_module": "@jupyter-widgets/controls",
            "layout": "IPY_MODEL_894f7d415cac49a5a6e81c9f41fc451b"
          }
        },
        "9499e21abe7944d385deb035f3b786af": {
          "model_module": "@jupyter-widgets/controls",
          "model_name": "HTMLModel",
          "state": {
            "_view_name": "HTMLView",
            "style": "IPY_MODEL_ee6bd563c9ab4e62b152a919df53afec",
            "_dom_classes": [],
            "description": "",
            "_model_name": "HTMLModel",
            "placeholder": "​",
            "_view_module": "@jupyter-widgets/controls",
            "_model_module_version": "1.5.0",
            "value": "8192it [00:00, 69534.98it/s]",
            "_view_count": null,
            "_view_module_version": "1.5.0",
            "description_tooltip": null,
            "_model_module": "@jupyter-widgets/controls",
            "layout": "IPY_MODEL_6830a0ca66a3452198634e5dcad52d0c"
          }
        },
        "a3cf7160f5344233a6499f63dc4561f4": {
          "model_module": "@jupyter-widgets/controls",
          "model_name": "ProgressStyleModel",
          "state": {
            "_view_name": "StyleView",
            "_model_name": "ProgressStyleModel",
            "description_width": "",
            "_view_module": "@jupyter-widgets/base",
            "_model_module_version": "1.5.0",
            "_view_count": null,
            "_view_module_version": "1.2.0",
            "bar_color": null,
            "_model_module": "@jupyter-widgets/controls"
          }
        },
        "894f7d415cac49a5a6e81c9f41fc451b": {
          "model_module": "@jupyter-widgets/base",
          "model_name": "LayoutModel",
          "state": {
            "_view_name": "LayoutView",
            "grid_template_rows": null,
            "right": null,
            "justify_content": null,
            "_view_module": "@jupyter-widgets/base",
            "overflow": null,
            "_model_module_version": "1.2.0",
            "_view_count": null,
            "flex_flow": null,
            "width": null,
            "min_width": null,
            "border": null,
            "align_items": null,
            "bottom": null,
            "_model_module": "@jupyter-widgets/base",
            "top": null,
            "grid_column": null,
            "overflow_y": null,
            "overflow_x": null,
            "grid_auto_flow": null,
            "grid_area": null,
            "grid_template_columns": null,
            "flex": null,
            "_model_name": "LayoutModel",
            "justify_items": null,
            "grid_row": null,
            "max_height": null,
            "align_content": null,
            "visibility": null,
            "align_self": null,
            "height": null,
            "min_height": null,
            "padding": null,
            "grid_auto_rows": null,
            "grid_gap": null,
            "max_width": null,
            "order": null,
            "_view_module_version": "1.2.0",
            "grid_template_areas": null,
            "object_position": null,
            "object_fit": null,
            "grid_auto_columns": null,
            "margin": null,
            "display": null,
            "left": null
          }
        },
        "ee6bd563c9ab4e62b152a919df53afec": {
          "model_module": "@jupyter-widgets/controls",
          "model_name": "DescriptionStyleModel",
          "state": {
            "_view_name": "StyleView",
            "_model_name": "DescriptionStyleModel",
            "description_width": "",
            "_view_module": "@jupyter-widgets/base",
            "_model_module_version": "1.5.0",
            "_view_count": null,
            "_view_module_version": "1.2.0",
            "_model_module": "@jupyter-widgets/controls"
          }
        },
        "6830a0ca66a3452198634e5dcad52d0c": {
          "model_module": "@jupyter-widgets/base",
          "model_name": "LayoutModel",
          "state": {
            "_view_name": "LayoutView",
            "grid_template_rows": null,
            "right": null,
            "justify_content": null,
            "_view_module": "@jupyter-widgets/base",
            "overflow": null,
            "_model_module_version": "1.2.0",
            "_view_count": null,
            "flex_flow": null,
            "width": null,
            "min_width": null,
            "border": null,
            "align_items": null,
            "bottom": null,
            "_model_module": "@jupyter-widgets/base",
            "top": null,
            "grid_column": null,
            "overflow_y": null,
            "overflow_x": null,
            "grid_auto_flow": null,
            "grid_area": null,
            "grid_template_columns": null,
            "flex": null,
            "_model_name": "LayoutModel",
            "justify_items": null,
            "grid_row": null,
            "max_height": null,
            "align_content": null,
            "visibility": null,
            "align_self": null,
            "height": null,
            "min_height": null,
            "padding": null,
            "grid_auto_rows": null,
            "grid_gap": null,
            "max_width": null,
            "order": null,
            "_view_module_version": "1.2.0",
            "grid_template_areas": null,
            "object_position": null,
            "object_fit": null,
            "grid_auto_columns": null,
            "margin": null,
            "display": null,
            "left": null
          }
        }
      }
    }
  },
  "cells": [
    {
      "cell_type": "markdown",
      "metadata": {
        "id": "view-in-github",
        "colab_type": "text"
      },
      "source": [
        "<a href=\"https://colab.research.google.com/github/GazalaSayyad/Handwritten-recognition-using-Pytorch/blob/master/Handwritten.ipynb\" target=\"_parent\"><img src=\"https://colab.research.google.com/assets/colab-badge.svg\" alt=\"Open In Colab\"/></a>"
      ]
    },
    {
      "cell_type": "markdown",
      "metadata": {
        "id": "ty3bz8wdxD02",
        "colab_type": "text"
      },
      "source": [
        "Importing required Packages"
      ]
    },
    {
      "cell_type": "code",
      "metadata": {
        "id": "ksZP2GkUxKZy",
        "colab_type": "code",
        "colab": {}
      },
      "source": [
        "import torch\n",
        "import torch. nn as nn\n",
        "import torch.nn.functional as F\n",
        "import torch. optim as optim\n",
        "from torchvision import datasets , transforms"
      ],
      "execution_count": 0,
      "outputs": []
    },
    {
      "cell_type": "markdown",
      "metadata": {
        "id": "nMQ7I7EEx1vF",
        "colab_type": "text"
      },
      "source": [
        "Importing Python packages"
      ]
    },
    {
      "cell_type": "code",
      "metadata": {
        "id": "qwzRGtF9xKqH",
        "colab_type": "code",
        "colab": {}
      },
      "source": [
        "import numpy as np\n",
        "import matplotlib.pyplot as plt\n",
        "import seaborn as sns"
      ],
      "execution_count": 0,
      "outputs": []
    },
    {
      "cell_type": "markdown",
      "metadata": {
        "id": "Q9n30Zncyi14",
        "colab_type": "text"
      },
      "source": [
        " Initializing CUDA"
      ]
    },
    {
      "cell_type": "code",
      "metadata": {
        "id": "Ko2JwQYQxLDp",
        "colab_type": "code",
        "colab": {
          "base_uri": "https://localhost:8080/",
          "height": 35
        },
        "outputId": "73a0bea7-077d-45ba-e652-f1c0d00a320c"
      },
      "source": [
        "use_cuda = torch.cuda.is_available()\n",
        "print('Using PyTorch version:', torch.__version__, 'CUDA:', use_cuda)"
      ],
      "execution_count": 7,
      "outputs": [
        {
          "output_type": "stream",
          "text": [
            "Using PyTorch version: 1.4.0 CUDA: False\n"
          ],
          "name": "stdout"
        }
      ]
    },
    {
      "cell_type": "code",
      "metadata": {
        "id": "CYu42A3axLWe",
        "colab_type": "code",
        "colab": {
          "base_uri": "https://localhost:8080/",
          "height": 35
        },
        "outputId": "ed17008d-eb18-4d06-8371-e360822e35c9"
      },
      "source": [
        "device = torch.device(\"cuda\" if use_cuda else \"cpu\")\n",
        "device"
      ],
      "execution_count": 8,
      "outputs": [
        {
          "output_type": "execute_result",
          "data": {
            "text/plain": [
              "device(type='cpu')"
            ]
          },
          "metadata": {
            "tags": []
          },
          "execution_count": 8
        }
      ]
    },
    {
      "cell_type": "code",
      "metadata": {
        "id": "ji7pkEmxxLLl",
        "colab_type": "code",
        "colab": {}
      },
      "source": [
        "batch_size = 32"
      ],
      "execution_count": 0,
      "outputs": []
    },
    {
      "cell_type": "markdown",
      "metadata": {
        "id": "fjR01r22y5H9",
        "colab_type": "text"
      },
      "source": [
        "Load MNIST data"
      ]
    },
    {
      "cell_type": "code",
      "metadata": {
        "id": "WvUCLeb9y0k7",
        "colab_type": "code",
        "colab": {}
      },
      "source": [
        "%ls ../data/MNIST/raw/train-images-idx3-ubyte"
      ],
      "execution_count": 0,
      "outputs": []
    },
    {
      "cell_type": "code",
      "metadata": {
        "id": "IsUF0tFvy0aw",
        "colab_type": "code",
        "colab": {
          "base_uri": "https://localhost:8080/",
          "height": 399,
          "referenced_widgets": [
            "7f4faf1d45514d63a3e9df8028bd1acb",
            "c8b3c081eab84c11b19dad8c61bf0336",
            "97e0c5ad2dbe46efadf37fe63431db35",
            "dc99256948fb4ab8951e7b94d17641b4",
            "2acdcefe0416437ca0eb95648792d57c",
            "4a2e0eed71af4589b39457030bd5a9a7",
            "e6b8ee3941814d16959dad1a31365daf",
            "efc6f309088b4cab84d69b7545d5a231",
            "0d14458c29c840a2b508d2be6590ece5",
            "63fb8b798ba34d7b8ab696f88c584434",
            "292d1b6ff6134a83ac2276e0442d8e92",
            "c69c2265c55145caa1827c83e0999e0c",
            "4c50d15998564b9597c14e15a3db8741",
            "b5914bd0660f44bbbd2ef1740b9084fc",
            "b1f2103472e044d7aedb6ab703afb26f",
            "e26c910bd62746fb9817a4b208912f9b",
            "1c807ca73d74412da43e5f2bd229b456",
            "fbcd3b38ad8c4b0ab2dff3910b7ac025",
            "3ce78e35250b4931ae55ba31295b7276",
            "0ec0194cd34e4a6fa11f4ac7ce7ae7f4",
            "7ff45f6d99f249b3bac78a27bcdfd870",
            "5ae94b348ffa4ba08b5ed4fbd40038b4",
            "bae7f7c68fa24280881de68624bb1aa6",
            "7b47f7b6786d41f9b9148a645871191f",
            "12647a6c12c64961a6eb41b6db562295",
            "8698891b15b2415c95c196e9e6478fe9",
            "9d54d092ab6840379ed717dd82cccd85",
            "9499e21abe7944d385deb035f3b786af",
            "a3cf7160f5344233a6499f63dc4561f4",
            "894f7d415cac49a5a6e81c9f41fc451b",
            "ee6bd563c9ab4e62b152a919df53afec",
            "6830a0ca66a3452198634e5dcad52d0c"
          ]
        },
        "outputId": "db674e33-8005-4d3b-9e8d-498370eb150f"
      },
      "source": [
        "train_loader = torch.utils.data.DataLoader(\n",
        "    datasets.MNIST('../data', train=True, download=True,\n",
        "                   transform=transforms.Compose([\n",
        "                       transforms.ToTensor(),\n",
        "                       transforms.Normalize((0.1307,), (0.3081,))\n",
        "                   ])),\n",
        "    batch_size=batch_size, shuffle=True, \n",
        ")"
      ],
      "execution_count": 12,
      "outputs": [
        {
          "output_type": "stream",
          "text": [
            "Downloading http://yann.lecun.com/exdb/mnist/train-images-idx3-ubyte.gz to ../data/MNIST/raw/train-images-idx3-ubyte.gz\n"
          ],
          "name": "stdout"
        },
        {
          "output_type": "display_data",
          "data": {
            "application/vnd.jupyter.widget-view+json": {
              "model_id": "7f4faf1d45514d63a3e9df8028bd1acb",
              "version_minor": 0,
              "version_major": 2
            },
            "text/plain": [
              "HBox(children=(IntProgress(value=1, bar_style='info', max=1), HTML(value='')))"
            ]
          },
          "metadata": {
            "tags": []
          }
        },
        {
          "output_type": "stream",
          "text": [
            "\n",
            "Extracting ../data/MNIST/raw/train-images-idx3-ubyte.gz to ../data/MNIST/raw\n",
            "Downloading http://yann.lecun.com/exdb/mnist/train-labels-idx1-ubyte.gz to ../data/MNIST/raw/train-labels-idx1-ubyte.gz\n"
          ],
          "name": "stdout"
        },
        {
          "output_type": "display_data",
          "data": {
            "application/vnd.jupyter.widget-view+json": {
              "model_id": "0d14458c29c840a2b508d2be6590ece5",
              "version_minor": 0,
              "version_major": 2
            },
            "text/plain": [
              "HBox(children=(IntProgress(value=1, bar_style='info', max=1), HTML(value='')))"
            ]
          },
          "metadata": {
            "tags": []
          }
        },
        {
          "output_type": "stream",
          "text": [
            "\n",
            "Extracting ../data/MNIST/raw/train-labels-idx1-ubyte.gz to ../data/MNIST/raw\n",
            "Downloading http://yann.lecun.com/exdb/mnist/t10k-images-idx3-ubyte.gz to ../data/MNIST/raw/t10k-images-idx3-ubyte.gz\n"
          ],
          "name": "stdout"
        },
        {
          "output_type": "display_data",
          "data": {
            "application/vnd.jupyter.widget-view+json": {
              "model_id": "1c807ca73d74412da43e5f2bd229b456",
              "version_minor": 0,
              "version_major": 2
            },
            "text/plain": [
              "HBox(children=(IntProgress(value=1, bar_style='info', max=1), HTML(value='')))"
            ]
          },
          "metadata": {
            "tags": []
          }
        },
        {
          "output_type": "stream",
          "text": [
            "\n",
            "Extracting ../data/MNIST/raw/t10k-images-idx3-ubyte.gz to ../data/MNIST/raw\n",
            "Downloading http://yann.lecun.com/exdb/mnist/t10k-labels-idx1-ubyte.gz to ../data/MNIST/raw/t10k-labels-idx1-ubyte.gz\n"
          ],
          "name": "stdout"
        },
        {
          "output_type": "display_data",
          "data": {
            "application/vnd.jupyter.widget-view+json": {
              "model_id": "12647a6c12c64961a6eb41b6db562295",
              "version_minor": 0,
              "version_major": 2
            },
            "text/plain": [
              "HBox(children=(IntProgress(value=1, bar_style='info', max=1), HTML(value='')))"
            ]
          },
          "metadata": {
            "tags": []
          }
        },
        {
          "output_type": "stream",
          "text": [
            "\n",
            "Extracting ../data/MNIST/raw/t10k-labels-idx1-ubyte.gz to ../data/MNIST/raw\n",
            "Processing...\n",
            "Done!\n"
          ],
          "name": "stdout"
        }
      ]
    },
    {
      "cell_type": "code",
      "metadata": {
        "id": "j04lXVsPxLAc",
        "colab_type": "code",
        "colab": {}
      },
      "source": [
        "test_loader = torch.utils.data.DataLoader(\n",
        "    datasets.MNIST('../data', train=False, transform=transforms.Compose([\n",
        "                       transforms.ToTensor(),\n",
        "                       transforms.Normalize((0.1307,), (0.3081,))\n",
        "                   ])),\n",
        "    batch_size=batch_size, shuffle=True,\n",
        "   )"
      ],
      "execution_count": 0,
      "outputs": []
    },
    {
      "cell_type": "markdown",
      "metadata": {
        "id": "J0JqQzua0kH3",
        "colab_type": "text"
      },
      "source": [
        "The first element of training data (X_train) is a 4th-order tensor of size (batch_size, 1, 28, 28), i.e. it consists of a batch of images of size 1x28x28 pixels. y_train is a vector containing the correct classes (\"0\", \"1\", ..., \"9\") for each training digit.\n",
        "\n"
      ]
    },
    {
      "cell_type": "code",
      "metadata": {
        "id": "x1U_CPAvxK60",
        "colab_type": "code",
        "colab": {
          "base_uri": "https://localhost:8080/",
          "height": 54
        },
        "outputId": "bdc980a5-58d5-42a0-a6c1-4c5fec9f8f2b"
      },
      "source": [
        "for (X_train, y_train) in train_loader:\n",
        "    print('X_train:', X_train.size(), 'type:', X_train.type())\n",
        "    print('y_train:', y_train.size(), 'type:', y_train.type())\n",
        "    break"
      ],
      "execution_count": 17,
      "outputs": [
        {
          "output_type": "stream",
          "text": [
            "X_train: torch.Size([32, 1, 28, 28]) type: torch.FloatTensor\n",
            "y_train: torch.Size([32]) type: torch.LongTensor\n"
          ],
          "name": "stdout"
        }
      ]
    },
    {
      "cell_type": "markdown",
      "metadata": {
        "id": "UAO5YdMu0_V_",
        "colab_type": "text"
      },
      "source": [
        "Plotting the first 10 training digits"
      ]
    },
    {
      "cell_type": "code",
      "metadata": {
        "id": "AGuBAcmj1Emx",
        "colab_type": "code",
        "colab": {
          "base_uri": "https://localhost:8080/",
          "height": 101
        },
        "outputId": "fadf549a-2fe7-468b-bca9-7381f7772eca"
      },
      "source": [
        "pltsize=1\n",
        "plt.figure(figsize=(15*pltsize, pltsize))\n",
        "\n",
        "for i in range(10):\n",
        "    plt.subplot(1,10,i+1)\n",
        "    plt.axis('off')\n",
        "    plt.imshow(X_train[i, : , : , :].numpy().reshape(28,28), cmap=\"gray\")\n",
        "    plt.title('Class: '  +  str(y_train[i]))"
      ],
      "execution_count": 38,
      "outputs": [
        {
          "output_type": "display_data",
          "data": {
            "image/png": "[encoded data removed]",
            "text/plain": [
              "<Figure size 1080x72 with 10 Axes>"
            ]
          },
          "metadata": {
            "tags": []
          }
        }
      ]
    },
    {
      "cell_type": "markdown",
      "metadata": {
        "id": "2P8zMMf01nEj",
        "colab_type": "text"
      },
      "source": [
        " Neural network and optimizer"
      ]
    },
    {
      "cell_type": "code",
      "metadata": {
        "id": "j-Qb_Tbg1EhP",
        "colab_type": "code",
        "colab": {}
      },
      "source": [
        "class Net(nn.Module):\n",
        "    def __init__(self):\n",
        "        super(Net, self).__init__()\n",
        "        self.fc1 = nn.Linear(28*28, 50)\n",
        "        self.fc1_drop = nn.Dropout(0.2)\n",
        "        self.fc2 = nn.Linear(50, 50)\n",
        "        self.fc2_drop = nn.Dropout(0.2)\n",
        "        self.fc3 = nn.Linear(50, 10)\n",
        "    def forward(self, x):\n",
        "        x = x.view(-1, 28*28)\n",
        "        x = F.relu(self.fc1(x))\n",
        "        x = self.fc1_drop(x)\n",
        "        x = F.relu(self.fc2(x))\n",
        "        x = self.fc2_drop(x)\n",
        "        return F.log_softmax(self.fc3(x), dim=1)   \n"
      ],
      "execution_count": 0,
      "outputs": []
    },
    {
      "cell_type": "code",
      "metadata": {
        "id": "DGECAHn0xKx6",
        "colab_type": "code",
        "colab": {}
      },
      "source": [
        "model = Net()\n",
        "model = model.to(device)"
      ],
      "execution_count": 0,
      "outputs": []
    },
    {
      "cell_type": "code",
      "metadata": {
        "id": "if_-uLc2xKjn",
        "colab_type": "code",
        "colab": {
          "base_uri": "https://localhost:8080/",
          "height": 145
        },
        "outputId": "37ef5db5-078c-4e32-b4c8-e9d2bd2dcd67"
      },
      "source": [
        "model"
      ],
      "execution_count": 32,
      "outputs": [
        {
          "output_type": "execute_result",
          "data": {
            "text/plain": [
              "Net(\n",
              "  (fc1): Linear(in_features=784, out_features=50, bias=True)\n",
              "  (fc1_drop): Dropout(p=0.2, inplace=False)\n",
              "  (fc2): Linear(in_features=50, out_features=50, bias=True)\n",
              "  (fc2_drop): Dropout(p=0.2, inplace=False)\n",
              "  (fc3): Linear(in_features=50, out_features=10, bias=True)\n",
              ")"
            ]
          },
          "metadata": {
            "tags": []
          },
          "execution_count": 32
        }
      ]
    },
    {
      "cell_type": "markdown",
      "metadata": {
        "id": "MHoWgjHR5ZOl",
        "colab_type": "text"
      },
      "source": [
        "Optimizer "
      ]
    },
    {
      "cell_type": "code",
      "metadata": {
        "id": "JupcUVzn5Wmk",
        "colab_type": "code",
        "colab": {}
      },
      "source": [
        "optimizer = optim.SGD(model.parameters(), lr=0.01, momentum=0.5)"
      ],
      "execution_count": 0,
      "outputs": []
    },
    {
      "cell_type": "code",
      "metadata": {
        "id": "KP-E0QZP5WiL",
        "colab_type": "code",
        "colab": {}
      },
      "source": [
        "def train(epoch, log_interval=100):\n",
        "    model.train()\n",
        "    for batch_idx, (data, target) in enumerate(train_loader):\n",
        "       \n",
        "        data, target = data.to(device), target.to(device)\n",
        "        optimizer.zero_grad()\n",
        "        output = model(data)\n",
        "        loss = F.nll_loss(output, target)\n",
        "        loss.backward()\n",
        "        optimizer.step()\n",
        "        if batch_idx % log_interval == 0:\n",
        "            print('Train Epoch: {} [{}/{} ({:.0f}%)]\\tLoss: {:.6f}'.format(\n",
        "                epoch, batch_idx * len(data), len(train_loader.dataset),\n",
        "                100. * batch_idx / len(train_loader), loss.item()))"
      ],
      "execution_count": 0,
      "outputs": []
    },
    {
      "cell_type": "code",
      "metadata": {
        "id": "_eYFN2IX5Weg",
        "colab_type": "code",
        "colab": {}
      },
      "source": [
        "def test(loss_vector, accuracy_vector):\n",
        "    model.eval()\n",
        "    test_loss, correct = 0, 0\n",
        "    for data, target in test_loader:\n",
        "        data, target = data.to(device), target.to(device)\n",
        "        output = model(data)\n",
        "        test_loss += F.nll_loss(output, target).item()\n",
        "        pred = output.data.max(1)[1] # get the index of the max log-probability\n",
        "        correct += pred.eq(target.data).to(device).sum()\n",
        "\n",
        "    test_loss /= len(test_loader)\n",
        "    loss_vector.append(test_loss)\n",
        "\n",
        "    accuracy = 100. * correct / len(test_loader.dataset)\n",
        "    accuracy_vector.append(accuracy)\n",
        "    \n",
        "    print('\\nTest set: Average loss: {:.4f}, Accuracy: {}/{} ({:.0f}%)\\n'.format(\n",
        "        test_loss, correct, len(test_loader.dataset), accuracy))"
      ],
      "execution_count": 0,
      "outputs": []
    },
    {
      "cell_type": "code",
      "metadata": {
        "id": "W0THcjhB5WPr",
        "colab_type": "code",
        "colab": {
          "base_uri": "https://localhost:8080/",
          "height": 1000
        },
        "outputId": "94ceed5a-a091-4151-943d-e850bc1eac2d"
      },
      "source": [
        "%%time\n",
        "epochs = 10\n",
        "\n",
        "lossv, accv = [], []\n",
        "for epoch in range(1, epochs +\n",
        "                   1):\n",
        "    train(epoch)\n",
        "    test(lossv, accv)"
      ],
      "execution_count": 37,
      "outputs": [
        {
          "output_type": "stream",
          "text": [
            "Train Epoch: 1 [0/60000 (0%)]\tLoss: 2.339864\n",
            "Train Epoch: 1 [3200/60000 (5%)]\tLoss: 1.180570\n",
            "Train Epoch: 1 [6400/60000 (11%)]\tLoss: 0.799203\n",
            "Train Epoch: 1 [9600/60000 (16%)]\tLoss: 0.561847\n",
            "Train Epoch: 1 [12800/60000 (21%)]\tLoss: 0.573012\n",
            "Train Epoch: 1 [16000/60000 (27%)]\tLoss: 0.515539\n",
            "Train Epoch: 1 [19200/60000 (32%)]\tLoss: 0.866030\n",
            "Train Epoch: 1 [22400/60000 (37%)]\tLoss: 0.344470\n",
            "Train Epoch: 1 [25600/60000 (43%)]\tLoss: 0.417101\n",
            "Train Epoch: 1 [28800/60000 (48%)]\tLoss: 0.396113\n",
            "Train Epoch: 1 [32000/60000 (53%)]\tLoss: 0.247822\n",
            "Train Epoch: 1 [35200/60000 (59%)]\tLoss: 0.147522\n",
            "Train Epoch: 1 [38400/60000 (64%)]\tLoss: 0.436234\n",
            "Train Epoch: 1 [41600/60000 (69%)]\tLoss: 0.373817\n",
            "Train Epoch: 1 [44800/60000 (75%)]\tLoss: 0.203475\n",
            "Train Epoch: 1 [48000/60000 (80%)]\tLoss: 0.566010\n",
            "Train Epoch: 1 [51200/60000 (85%)]\tLoss: 0.270142\n",
            "Train Epoch: 1 [54400/60000 (91%)]\tLoss: 0.346352\n",
            "Train Epoch: 1 [57600/60000 (96%)]\tLoss: 0.304885\n",
            "\n",
            "Test set: Average loss: 0.2289, Accuracy: 9305/10000 (93%)\n",
            "\n",
            "Train Epoch: 2 [0/60000 (0%)]\tLoss: 0.178093\n",
            "Train Epoch: 2 [3200/60000 (5%)]\tLoss: 0.292862\n",
            "Train Epoch: 2 [6400/60000 (11%)]\tLoss: 0.385743\n",
            "Train Epoch: 2 [9600/60000 (16%)]\tLoss: 0.304739\n",
            "Train Epoch: 2 [12800/60000 (21%)]\tLoss: 0.260909\n",
            "Train Epoch: 2 [16000/60000 (27%)]\tLoss: 0.117758\n",
            "Train Epoch: 2 [19200/60000 (32%)]\tLoss: 0.314515\n",
            "Train Epoch: 2 [22400/60000 (37%)]\tLoss: 0.082706\n",
            "Train Epoch: 2 [25600/60000 (43%)]\tLoss: 0.259343\n",
            "Train Epoch: 2 [28800/60000 (48%)]\tLoss: 0.382155\n",
            "Train Epoch: 2 [32000/60000 (53%)]\tLoss: 0.293321\n",
            "Train Epoch: 2 [35200/60000 (59%)]\tLoss: 0.160040\n",
            "Train Epoch: 2 [38400/60000 (64%)]\tLoss: 0.466405\n",
            "Train Epoch: 2 [41600/60000 (69%)]\tLoss: 0.327829\n",
            "Train Epoch: 2 [44800/60000 (75%)]\tLoss: 0.179092\n",
            "Train Epoch: 2 [48000/60000 (80%)]\tLoss: 0.140794\n",
            "Train Epoch: 2 [51200/60000 (85%)]\tLoss: 0.475362\n",
            "Train Epoch: 2 [54400/60000 (91%)]\tLoss: 0.370427\n",
            "Train Epoch: 2 [57600/60000 (96%)]\tLoss: 0.291766\n",
            "\n",
            "Test set: Average loss: 0.1692, Accuracy: 9504/10000 (95%)\n",
            "\n",
            "Train Epoch: 3 [0/60000 (0%)]\tLoss: 0.335527\n",
            "Train Epoch: 3 [3200/60000 (5%)]\tLoss: 0.160895\n",
            "Train Epoch: 3 [6400/60000 (11%)]\tLoss: 0.362618\n",
            "Train Epoch: 3 [9600/60000 (16%)]\tLoss: 0.378977\n",
            "Train Epoch: 3 [12800/60000 (21%)]\tLoss: 0.139938\n",
            "Train Epoch: 3 [16000/60000 (27%)]\tLoss: 0.148945\n",
            "Train Epoch: 3 [19200/60000 (32%)]\tLoss: 0.122641\n",
            "Train Epoch: 3 [22400/60000 (37%)]\tLoss: 0.225782\n",
            "Train Epoch: 3 [25600/60000 (43%)]\tLoss: 0.146613\n",
            "Train Epoch: 3 [28800/60000 (48%)]\tLoss: 0.207014\n",
            "Train Epoch: 3 [32000/60000 (53%)]\tLoss: 0.379558\n",
            "Train Epoch: 3 [35200/60000 (59%)]\tLoss: 0.363470\n",
            "Train Epoch: 3 [38400/60000 (64%)]\tLoss: 0.466997\n",
            "Train Epoch: 3 [41600/60000 (69%)]\tLoss: 0.096643\n",
            "Train Epoch: 3 [44800/60000 (75%)]\tLoss: 0.105500\n",
            "Train Epoch: 3 [48000/60000 (80%)]\tLoss: 0.180491\n",
            "Train Epoch: 3 [51200/60000 (85%)]\tLoss: 0.143252\n",
            "Train Epoch: 3 [54400/60000 (91%)]\tLoss: 0.165097\n",
            "Train Epoch: 3 [57600/60000 (96%)]\tLoss: 0.271352\n",
            "\n",
            "Test set: Average loss: 0.1451, Accuracy: 9547/10000 (95%)\n",
            "\n",
            "Train Epoch: 4 [0/60000 (0%)]\tLoss: 0.398302\n",
            "Train Epoch: 4 [3200/60000 (5%)]\tLoss: 0.140189\n",
            "Train Epoch: 4 [6400/60000 (11%)]\tLoss: 0.148576\n",
            "Train Epoch: 4 [9600/60000 (16%)]\tLoss: 0.355852\n",
            "Train Epoch: 4 [12800/60000 (21%)]\tLoss: 0.241770\n",
            "Train Epoch: 4 [16000/60000 (27%)]\tLoss: 0.077649\n",
            "Train Epoch: 4 [19200/60000 (32%)]\tLoss: 0.112553\n",
            "Train Epoch: 4 [22400/60000 (37%)]\tLoss: 0.030272\n",
            "Train Epoch: 4 [25600/60000 (43%)]\tLoss: 0.287153\n",
            "Train Epoch: 4 [28800/60000 (48%)]\tLoss: 0.197628\n",
            "Train Epoch: 4 [32000/60000 (53%)]\tLoss: 0.222993\n",
            "Train Epoch: 4 [35200/60000 (59%)]\tLoss: 0.164318\n",
            "Train Epoch: 4 [38400/60000 (64%)]\tLoss: 0.064698\n",
            "Train Epoch: 4 [41600/60000 (69%)]\tLoss: 0.258763\n",
            "Train Epoch: 4 [44800/60000 (75%)]\tLoss: 0.439374\n",
            "Train Epoch: 4 [48000/60000 (80%)]\tLoss: 0.156595\n",
            "Train Epoch: 4 [51200/60000 (85%)]\tLoss: 0.301295\n",
            "Train Epoch: 4 [54400/60000 (91%)]\tLoss: 0.261266\n",
            "Train Epoch: 4 [57600/60000 (96%)]\tLoss: 0.203739\n",
            "\n",
            "Test set: Average loss: 0.1320, Accuracy: 9577/10000 (96%)\n",
            "\n",
            "Train Epoch: 5 [0/60000 (0%)]\tLoss: 0.212123\n",
            "Train Epoch: 5 [3200/60000 (5%)]\tLoss: 0.228088\n",
            "Train Epoch: 5 [6400/60000 (11%)]\tLoss: 0.256409\n",
            "Train Epoch: 5 [9600/60000 (16%)]\tLoss: 0.132885\n",
            "Train Epoch: 5 [12800/60000 (21%)]\tLoss: 0.072240\n",
            "Train Epoch: 5 [16000/60000 (27%)]\tLoss: 0.115371\n",
            "Train Epoch: 5 [19200/60000 (32%)]\tLoss: 0.341644\n",
            "Train Epoch: 5 [22400/60000 (37%)]\tLoss: 0.303715\n",
            "Train Epoch: 5 [25600/60000 (43%)]\tLoss: 0.168825\n",
            "Train Epoch: 5 [28800/60000 (48%)]\tLoss: 0.226205\n",
            "Train Epoch: 5 [32000/60000 (53%)]\tLoss: 0.119523\n",
            "Train Epoch: 5 [35200/60000 (59%)]\tLoss: 0.221764\n",
            "Train Epoch: 5 [38400/60000 (64%)]\tLoss: 0.122860\n",
            "Train Epoch: 5 [41600/60000 (69%)]\tLoss: 0.272285\n",
            "Train Epoch: 5 [44800/60000 (75%)]\tLoss: 0.206774\n",
            "Train Epoch: 5 [48000/60000 (80%)]\tLoss: 0.154618\n",
            "Train Epoch: 5 [51200/60000 (85%)]\tLoss: 0.095069\n",
            "Train Epoch: 5 [54400/60000 (91%)]\tLoss: 0.139529\n",
            "Train Epoch: 5 [57600/60000 (96%)]\tLoss: 0.308665\n",
            "\n",
            "Test set: Average loss: 0.1249, Accuracy: 9605/10000 (96%)\n",
            "\n",
            "Train Epoch: 6 [0/60000 (0%)]\tLoss: 0.216023\n",
            "Train Epoch: 6 [3200/60000 (5%)]\tLoss: 0.151540\n",
            "Train Epoch: 6 [6400/60000 (11%)]\tLoss: 0.341552\n",
            "Train Epoch: 6 [9600/60000 (16%)]\tLoss: 0.219850\n",
            "Train Epoch: 6 [12800/60000 (21%)]\tLoss: 0.100797\n",
            "Train Epoch: 6 [16000/60000 (27%)]\tLoss: 0.075561\n",
            "Train Epoch: 6 [19200/60000 (32%)]\tLoss: 0.137163\n",
            "Train Epoch: 6 [22400/60000 (37%)]\tLoss: 0.070822\n",
            "Train Epoch: 6 [25600/60000 (43%)]\tLoss: 0.275753\n",
            "Train Epoch: 6 [28800/60000 (48%)]\tLoss: 0.308207\n",
            "Train Epoch: 6 [32000/60000 (53%)]\tLoss: 0.386443\n",
            "Train Epoch: 6 [35200/60000 (59%)]\tLoss: 0.108622\n",
            "Train Epoch: 6 [38400/60000 (64%)]\tLoss: 0.048199\n",
            "Train Epoch: 6 [41600/60000 (69%)]\tLoss: 0.288108\n",
            "Train Epoch: 6 [44800/60000 (75%)]\tLoss: 0.191580\n",
            "Train Epoch: 6 [48000/60000 (80%)]\tLoss: 0.395820\n",
            "Train Epoch: 6 [51200/60000 (85%)]\tLoss: 0.508659\n",
            "Train Epoch: 6 [54400/60000 (91%)]\tLoss: 0.129737\n",
            "Train Epoch: 6 [57600/60000 (96%)]\tLoss: 0.050533\n",
            "\n",
            "Test set: Average loss: 0.1230, Accuracy: 9623/10000 (96%)\n",
            "\n",
            "Train Epoch: 7 [0/60000 (0%)]\tLoss: 0.146800\n",
            "Train Epoch: 7 [3200/60000 (5%)]\tLoss: 0.110622\n",
            "Train Epoch: 7 [6400/60000 (11%)]\tLoss: 0.198483\n",
            "Train Epoch: 7 [9600/60000 (16%)]\tLoss: 0.205194\n",
            "Train Epoch: 7 [12800/60000 (21%)]\tLoss: 0.155748\n",
            "Train Epoch: 7 [16000/60000 (27%)]\tLoss: 0.149049\n",
            "Train Epoch: 7 [19200/60000 (32%)]\tLoss: 0.201369\n",
            "Train Epoch: 7 [22400/60000 (37%)]\tLoss: 0.173696\n",
            "Train Epoch: 7 [25600/60000 (43%)]\tLoss: 0.333377\n",
            "Train Epoch: 7 [28800/60000 (48%)]\tLoss: 0.182356\n",
            "Train Epoch: 7 [32000/60000 (53%)]\tLoss: 0.348881\n",
            "Train Epoch: 7 [35200/60000 (59%)]\tLoss: 0.081905\n",
            "Train Epoch: 7 [38400/60000 (64%)]\tLoss: 0.145249\n",
            "Train Epoch: 7 [41600/60000 (69%)]\tLoss: 0.225194\n",
            "Train Epoch: 7 [44800/60000 (75%)]\tLoss: 0.072471\n",
            "Train Epoch: 7 [48000/60000 (80%)]\tLoss: 0.235899\n",
            "Train Epoch: 7 [51200/60000 (85%)]\tLoss: 0.172785\n",
            "Train Epoch: 7 [54400/60000 (91%)]\tLoss: 0.187454\n",
            "Train Epoch: 7 [57600/60000 (96%)]\tLoss: 0.161967\n",
            "\n",
            "Test set: Average loss: 0.1183, Accuracy: 9618/10000 (96%)\n",
            "\n",
            "Train Epoch: 8 [0/60000 (0%)]\tLoss: 0.067225\n",
            "Train Epoch: 8 [3200/60000 (5%)]\tLoss: 0.068987\n",
            "Train Epoch: 8 [6400/60000 (11%)]\tLoss: 0.059683\n",
            "Train Epoch: 8 [9600/60000 (16%)]\tLoss: 0.234733\n",
            "Train Epoch: 8 [12800/60000 (21%)]\tLoss: 0.171154\n",
            "Train Epoch: 8 [16000/60000 (27%)]\tLoss: 0.128505\n",
            "Train Epoch: 8 [19200/60000 (32%)]\tLoss: 0.139634\n",
            "Train Epoch: 8 [22400/60000 (37%)]\tLoss: 0.138212\n",
            "Train Epoch: 8 [25600/60000 (43%)]\tLoss: 0.183096\n",
            "Train Epoch: 8 [28800/60000 (48%)]\tLoss: 0.198381\n",
            "Train Epoch: 8 [32000/60000 (53%)]\tLoss: 0.229408\n",
            "Train Epoch: 8 [35200/60000 (59%)]\tLoss: 0.251496\n",
            "Train Epoch: 8 [38400/60000 (64%)]\tLoss: 0.020201\n",
            "Train Epoch: 8 [41600/60000 (69%)]\tLoss: 0.170440\n",
            "Train Epoch: 8 [44800/60000 (75%)]\tLoss: 0.126555\n",
            "Train Epoch: 8 [48000/60000 (80%)]\tLoss: 0.342598\n",
            "Train Epoch: 8 [51200/60000 (85%)]\tLoss: 0.104110\n",
            "Train Epoch: 8 [54400/60000 (91%)]\tLoss: 0.042676\n",
            "Train Epoch: 8 [57600/60000 (96%)]\tLoss: 0.196213\n",
            "\n",
            "Test set: Average loss: 0.1099, Accuracy: 9652/10000 (97%)\n",
            "\n",
            "Train Epoch: 9 [0/60000 (0%)]\tLoss: 0.344809\n",
            "Train Epoch: 9 [3200/60000 (5%)]\tLoss: 0.053707\n",
            "Train Epoch: 9 [6400/60000 (11%)]\tLoss: 0.017537\n",
            "Train Epoch: 9 [9600/60000 (16%)]\tLoss: 0.193261\n",
            "Train Epoch: 9 [12800/60000 (21%)]\tLoss: 0.060257\n",
            "Train Epoch: 9 [16000/60000 (27%)]\tLoss: 0.247390\n",
            "Train Epoch: 9 [19200/60000 (32%)]\tLoss: 0.090748\n",
            "Train Epoch: 9 [22400/60000 (37%)]\tLoss: 0.145018\n",
            "Train Epoch: 9 [25600/60000 (43%)]\tLoss: 0.053892\n",
            "Train Epoch: 9 [28800/60000 (48%)]\tLoss: 0.198648\n",
            "Train Epoch: 9 [32000/60000 (53%)]\tLoss: 0.172158\n",
            "Train Epoch: 9 [35200/60000 (59%)]\tLoss: 0.078331\n",
            "Train Epoch: 9 [38400/60000 (64%)]\tLoss: 0.048714\n",
            "Train Epoch: 9 [41600/60000 (69%)]\tLoss: 0.185497\n",
            "Train Epoch: 9 [44800/60000 (75%)]\tLoss: 0.088760\n",
            "Train Epoch: 9 [48000/60000 (80%)]\tLoss: 0.102181\n",
            "Train Epoch: 9 [51200/60000 (85%)]\tLoss: 0.054480\n",
            "Train Epoch: 9 [54400/60000 (91%)]\tLoss: 0.112654\n",
            "Train Epoch: 9 [57600/60000 (96%)]\tLoss: 0.243883\n",
            "\n",
            "Test set: Average loss: 0.1127, Accuracy: 9642/10000 (96%)\n",
            "\n",
            "Train Epoch: 10 [0/60000 (0%)]\tLoss: 0.325739\n",
            "Train Epoch: 10 [3200/60000 (5%)]\tLoss: 0.057353\n",
            "Train Epoch: 10 [6400/60000 (11%)]\tLoss: 0.139124\n",
            "Train Epoch: 10 [9600/60000 (16%)]\tLoss: 0.059341\n",
            "Train Epoch: 10 [12800/60000 (21%)]\tLoss: 0.171229\n",
            "Train Epoch: 10 [16000/60000 (27%)]\tLoss: 0.208497\n",
            "Train Epoch: 10 [19200/60000 (32%)]\tLoss: 0.187235\n",
            "Train Epoch: 10 [22400/60000 (37%)]\tLoss: 0.139667\n",
            "Train Epoch: 10 [25600/60000 (43%)]\tLoss: 0.119473\n",
            "Train Epoch: 10 [28800/60000 (48%)]\tLoss: 0.311167\n",
            "Train Epoch: 10 [32000/60000 (53%)]\tLoss: 0.069429\n",
            "Train Epoch: 10 [35200/60000 (59%)]\tLoss: 0.155655\n",
            "Train Epoch: 10 [38400/60000 (64%)]\tLoss: 0.309027\n",
            "Train Epoch: 10 [41600/60000 (69%)]\tLoss: 0.114385\n",
            "Train Epoch: 10 [44800/60000 (75%)]\tLoss: 0.189998\n",
            "Train Epoch: 10 [48000/60000 (80%)]\tLoss: 0.010473\n",
            "Train Epoch: 10 [51200/60000 (85%)]\tLoss: 0.338634\n",
            "Train Epoch: 10 [54400/60000 (91%)]\tLoss: 0.169024\n",
            "Train Epoch: 10 [57600/60000 (96%)]\tLoss: 0.189923\n",
            "\n",
            "Test set: Average loss: 0.1066, Accuracy: 9659/10000 (97%)\n",
            "\n",
            "CPU times: user 2min 3s, sys: 906 ms, total: 2min 4s\n",
            "Wall time: 2min 5s\n"
          ],
          "name": "stdout"
        }
      ]
    },
    {
      "cell_type": "markdown",
      "metadata": {
        "id": "hFIM5Vvt8qCS",
        "colab_type": "text"
      },
      "source": [
        "Evaluating the Model's Performance"
      ]
    },
    {
      "cell_type": "code",
      "metadata": {
        "id": "Tuj0qIGS8sJI",
        "colab_type": "code",
        "colab": {
          "base_uri": "https://localhost:8080/",
          "height": 368
        },
        "outputId": "24004e1f-ffe4-4419-e035-b70446d2c692"
      },
      "source": [
        "plt.figure(figsize=(8,5))\n",
        "plt.plot(np.arange(1,epochs+1), lossv)\n",
        "plt.title('test loss')\n",
        "plt.xlabel(\"epoch\")\n",
        "plt.ylabel(\"error\")"
      ],
      "execution_count": 39,
      "outputs": [
        {
          "output_type": "execute_result",
          "data": {
            "text/plain": [
              "Text(0, 0.5, 'error')"
            ]
          },
          "metadata": {
            "tags": []
          },
          "execution_count": 39
        },
        {
          "output_type": "display_data",
          "data": {
            "image/png": "[encoded data removed]",
            "text/plain": [
              "<Figure size 576x360 with 1 Axes>"
            ]
          },
          "metadata": {
            "tags": []
          }
        }
      ]
    }
  ]
}